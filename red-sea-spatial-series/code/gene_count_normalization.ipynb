{
 "cells": [
  {
   "cell_type": "markdown",
   "metadata": {},
   "source": [
    "## On the normalization of genomic gene count data to gene length\n",
    "\n",
    "by Luke Thompson - 2016/03/21"
   ]
  },
  {
   "cell_type": "markdown",
   "metadata": {},
   "source": [
    "A common method in metagenomics and transcriptomics is normalization of gene count data by gene size. \n",
    "\n",
    "In RPK, read counts (R) are divided directly by gene size (per kbp, or PK). In RPKM, they are further normalized by dividing by total counts and multiplying by one million (M).\n",
    "\n",
    "RPK and RPKM normalizations assume a purely linear relationship of sequencing probability to gene size. It has occurred to me that in cases of small genes and/or long reads, this purely linear relationship does not hold up."
   ]
  },
  {
   "cell_type": "markdown",
   "metadata": {},
   "source": [
    "Given: A single bacterial genome containing many different sized genes is sampled randomly, generating a set of equally sized sequence reads.\n",
    "\n",
    "The probability, $P$, of counting a gene by random, assuming completely random DNA fragmentation and sequencing, is given by\n",
    "\n",
    "### $P = \\frac{g + 2 (r-o)}{d}$\n",
    "\n",
    "where $g$ = gene length, $r$ = read length, $o$ = overlap required for match, and $d$ = genome or database size.\n",
    "\n",
    "The \"flap term\" is given by $2 (r-o)$.\n",
    "\n"
   ]
  },
  {
   "cell_type": "markdown",
   "metadata": {},
   "source": [
    "As gene size increases relative to the flap term, $P$ approaches $g/d$, which is the typical RPKM normalization.\n",
    "\n",
    "However, when gene size is similar to the flap term, the flap term is significant and increases the probability of counting the gene.\n",
    "\n",
    "Therefore, in circumstances where gene size is comparable to read length, with read length greater than ~200 bp, smaller genes will be observed more often than estimated by the $P = g/d$ formula."
   ]
  },
  {
   "cell_type": "markdown",
   "metadata": {},
   "source": [
    "Admittedly, given current short read technology, most genes are not short enough to make much difference. But it still is a small difference for all genes, and a big difference for the small ones. Further, as read lengths increase, the effect of the flap term will increase. Illumina is always increasing read lengths. We need to take the flap term into account!"
   ]
  },
  {
   "cell_type": "markdown",
   "metadata": {},
   "source": [
    "When we do RPK normalization, we divide counts by gene length. That is, our correction factor is\n",
    "\n",
    "### $C = \\frac{1}{g}$\n",
    "\n",
    "whereas it really should be\n",
    "\n",
    "### $C = \\frac{1}{g + 2(r-o)}$"
   ]
  },
  {
   "cell_type": "markdown",
   "metadata": {},
   "source": [
    "### Bokeh slider graph"
   ]
  },
  {
   "cell_type": "code",
   "execution_count": null,
   "metadata": {
    "collapsed": false
   },
   "outputs": [],
   "source": [
    "from bokeh.models import ColumnDataSource\n",
    "from bokeh.plotting import figure, show, output_notebook\n",
    "\n",
    "import numpy as np"
   ]
  },
  {
   "cell_type": "code",
   "execution_count": null,
   "metadata": {
    "collapsed": false
   },
   "outputs": [],
   "source": [
    "output_notebook()"
   ]
  },
  {
   "cell_type": "code",
   "execution_count": null,
   "metadata": {
    "collapsed": true
   },
   "outputs": [],
   "source": [
    "read = 100\n",
    "overlap = 100\n",
    "gene = np.arange(overlap, 5001, dtype=float)\n",
    "prob = gene + 2*(read - overlap)"
   ]
  },
  {
   "cell_type": "code",
   "execution_count": null,
   "metadata": {
    "collapsed": false
   },
   "outputs": [],
   "source": [
    "source = ColumnDataSource(data=dict(x=gene, y=prob, gene=gene, prob=prob))\n",
    "\n",
    "p = figure(title=\"simple line example\", plot_height=300, plot_width=600)\n",
    "p.line(gene, prob, color=\"#2222aa\", line_width=3, source=source, name=\"foo\")"
   ]
  },
  {
   "cell_type": "code",
   "execution_count": null,
   "metadata": {
    "collapsed": true
   },
   "outputs": [],
   "source": [
    "def update(read=100, overlap=100):\n",
    "    source.data['y'] = gene + 2*(read - overlap)\n",
    "    source.push_notebook()"
   ]
  },
  {
   "cell_type": "code",
   "execution_count": null,
   "metadata": {
    "collapsed": false
   },
   "outputs": [],
   "source": [
    "show(p)"
   ]
  },
  {
   "cell_type": "code",
   "execution_count": null,
   "metadata": {
    "collapsed": false
   },
   "outputs": [],
   "source": [
    "from IPython.html.widgets import interact\n",
    "interact(update, read=(0,1000), overlap=(0,200))"
   ]
  },
  {
   "cell_type": "code",
   "execution_count": null,
   "metadata": {
    "collapsed": true
   },
   "outputs": [],
   "source": []
  }
 ],
 "metadata": {
  "kernelspec": {
   "display_name": "Python 2",
   "language": "python",
   "name": "python2"
  },
  "language_info": {
   "codemirror_mode": {
    "name": "ipython",
    "version": 2
   },
   "file_extension": ".py",
   "mimetype": "text/x-python",
   "name": "python",
   "nbconvert_exporter": "python",
   "pygments_lexer": "ipython2",
   "version": "2.7.11"
  }
 },
 "nbformat": 4,
 "nbformat_minor": 0
}
