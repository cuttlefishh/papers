{
 "cells": [
  {
   "cell_type": "markdown",
   "metadata": {},
   "source": [
    "#### Merges CLARK output for 45 KRSE2011 samples, then merge that with the metadata table"
   ]
  },
  {
   "cell_type": "markdown",
   "metadata": {},
   "source": [
    "Before running this code, the output from Fauzi was modified with this shell script, `fix_unknown.sh`, because the \"UNKNOWN\" row is missing a field:\n",
    "\n",
    "    for i in `ls *.csv`\n",
    "    do\n",
    "        cat $i | sed -E 's/UNKNOWN,UNKNOWN/zzzUnknown,UNKNOWN,UNKNOWN/g' > temp\n",
    "        mv temp $i\n",
    "    done"
   ]
  },
  {
   "cell_type": "code",
   "execution_count": 7,
   "metadata": {
    "collapsed": true
   },
   "outputs": [],
   "source": [
    "# import libraries\n",
    "import pandas as pd"
   ]
  },
  {
   "cell_type": "code",
   "execution_count": 8,
   "metadata": {
    "collapsed": true
   },
   "outputs": [],
   "source": [
    "# file paths\n",
    "path_metadata = '/Users/luke/krse2011/db/krse2011_v5_metadata.csv'\n",
    "dir_clark_genus = '/Users/luke/krse2011/clark/specificitymode-genus'\n",
    "dir_clark_species = '/Users/luke/krse2011/clark/fullmode-species'\n",
    "outfile_genus = '/Users/luke/krse2011/clark/clark_genus.csv'\n",
    "outfile_species = '/Users/luke/krse2011/clark/clark_species.csv'"
   ]
  },
  {
   "cell_type": "code",
   "execution_count": 9,
   "metadata": {
    "collapsed": true
   },
   "outputs": [],
   "source": [
    "# column to export and merge\n",
    "exportcol = 'Count' # u'Proportion_All(%)'"
   ]
  },
  {
   "cell_type": "code",
   "execution_count": 10,
   "metadata": {
    "collapsed": false
   },
   "outputs": [],
   "source": [
    "# read and merge clark taxonomy data\n",
    "def read_clark(directory):\n",
    "    df_merged = pd.DataFrame()\n",
    "    for i in range(1,46):\n",
    "        if i < 10:\n",
    "            i = '0%s' % i\n",
    "        path = '%s/abundanceHC.results.sample%s.csv' % (directory, i)\n",
    "        df_full = pd.read_csv(path, dtype=object)\n",
    "        df_sub = df_full[['Name', exportcol]]\n",
    "        df_indexed = pd.DataFrame(data=df_sub.iloc[:,1])\n",
    "        df_indexed.index = df_sub.iloc[:,0]\n",
    "        df_indexed.columns = ['sample%s' % i]\n",
    "        df_merged = pd.merge(df_merged, df_indexed, how='outer', left_index=True, right_index=True)\n",
    "    df_transposed = df_merged.T\n",
    "    return df_transposed"
   ]
  },
  {
   "cell_type": "code",
   "execution_count": 11,
   "metadata": {
    "collapsed": false
   },
   "outputs": [],
   "source": [
    "# read metadata and merge with clark data\n",
    "def merge_metadata_clark(path_metadata, dir_clark, outfile):\n",
    "    df_metadata = pd.read_csv(path_metadata, index_col=0, dtype=object)\n",
    "    df_clark = read_clark(dir_clark)\n",
    "    df_final = pd.merge(df_metadata, df_clark, how='outer', left_index=True, right_index=True)\n",
    "    df_final.fillna(value=0, inplace=True)\n",
    "    df_final.to_csv(outfile)"
   ]
  },
  {
   "cell_type": "code",
   "execution_count": 12,
   "metadata": {
    "collapsed": false
   },
   "outputs": [],
   "source": [
    "# execute code\n",
    "merge_metadata_clark(path_metadata, dir_clark_genus, outfile_genus)\n",
    "merge_metadata_clark(path_metadata, dir_clark_species, outfile_species)"
   ]
  },
  {
   "cell_type": "code",
   "execution_count": null,
   "metadata": {
    "collapsed": true
   },
   "outputs": [],
   "source": []
  }
 ],
 "metadata": {
  "kernelspec": {
   "display_name": "Python 2",
   "language": "python",
   "name": "python2"
  },
  "language_info": {
   "codemirror_mode": {
    "name": "ipython",
    "version": 2
   },
   "file_extension": ".py",
   "mimetype": "text/x-python",
   "name": "python",
   "nbconvert_exporter": "python",
   "pygments_lexer": "ipython2",
   "version": "2.7.11"
  }
 },
 "nbformat": 4,
 "nbformat_minor": 0
}
