{
 "cells": [
  {
   "cell_type": "markdown",
   "metadata": {},
   "source": [
    "Normalize Kraken Counts (Merged Report) to Number of Reads\n",
    "=====\n",
    "\n",
    "Input files in working directory `~/krse2011/kraken`:\n",
    "\n",
    "* `krse2011_kraken_merged.tsv` -- MetaPhlAn-style stratified report\n",
    "* `krse2011_numreads.list` -- plain text list of read numbers (paired PRINSEQ reads)"
   ]
  },
  {
   "cell_type": "code",
   "execution_count": 1,
   "metadata": {
    "collapsed": false
   },
   "outputs": [],
   "source": [
    "import numpy as np\n",
    "import pandas as pd\n",
    "from __future__ import division"
   ]
  },
  {
   "cell_type": "code",
   "execution_count": 2,
   "metadata": {
    "collapsed": true
   },
   "outputs": [],
   "source": [
    "path_kraken = \"/Users/luke/krse2011/kraken/krse2011_kraken_merged.tsv\" # argv[1]\n",
    "path_numreads = \"/Users/luke/krse2011/kraken/krse2011_numreads.list\" # argv[2]"
   ]
  },
  {
   "cell_type": "code",
   "execution_count": 3,
   "metadata": {
    "collapsed": false
   },
   "outputs": [],
   "source": [
    "# save kraken merged report as pd dataframe\n",
    "df1 = pd.DataFrame.from_csv(path_kraken, header=0, index_col = None, sep='\\t')"
   ]
  },
  {
   "cell_type": "code",
   "execution_count": 4,
   "metadata": {
    "collapsed": false
   },
   "outputs": [],
   "source": [
    "# save kraken dataframe as ndarray, excluding 0th column (taxonomy)\n",
    "rawcounts = np.array(df1.iloc[0:,1:])"
   ]
  },
  {
   "cell_type": "code",
   "execution_count": 5,
   "metadata": {
    "collapsed": true
   },
   "outputs": [],
   "source": [
    "# save number of reads list as pd dataframe\n",
    "df2 = pd.DataFrame.from_csv(path_numreads, header=None, index_col = None, sep='\\t')"
   ]
  },
  {
   "cell_type": "code",
   "execution_count": 6,
   "metadata": {
    "collapsed": false
   },
   "outputs": [],
   "source": [
    "# save numreads dataframe as nd array, transposed\n",
    "numreads = np.array(df2).transpose()"
   ]
  },
  {
   "cell_type": "code",
   "execution_count": 7,
   "metadata": {
    "collapsed": false
   },
   "outputs": [],
   "source": [
    "# divide each column by the total number of reads checked by kraken (prinseq pairs)\n",
    "normcounts = rawcounts/numreads\n",
    "\n",
    "# IF I WANTED TO SPLIT UP INTO SEPARATE FILES BY TAXONOMIC LEVEL, COULD DO THIS:\n",
    "# go through each line of df\n",
    "# get ID\n",
    "# split by \"|\" into array\n",
    "# pop off last element\n",
    "# if it begins with [letter x from argv]\n",
    "# store as new dictionary entry"
   ]
  },
  {
   "cell_type": "code",
   "execution_count": 9,
   "metadata": {
    "collapsed": false
   },
   "outputs": [],
   "source": [
    "# save ndarray as pd.DataFrame with same row and column names as df1\n",
    "df3 = pd.DataFrame(normcounts, index=df1.iloc[:,0:1], columns=df1.columns[1:])"
   ]
  },
  {
   "cell_type": "code",
   "execution_count": 14,
   "metadata": {
    "collapsed": true
   },
   "outputs": [],
   "source": [
    "# export as tsv file\n",
    "df3.to_csv(path_or_buf=\"temp.tsv\", sep=\"\\t\")"
   ]
  },
  {
   "cell_type": "code",
   "execution_count": 16,
   "metadata": {
    "collapsed": false
   },
   "outputs": [],
   "source": [
    "# remove \"('\" and \"',)\" from index (row names)\n",
    "!cat temp.tsv | sed \"s/('//g\" | sed \"s/',)//g\" > krse2011_kraken_merged_norm.tsv\n",
    "!/bin/rm temp.tsv\n",
    "\n"
   ]
  },
  {
   "cell_type": "markdown",
   "metadata": {
    "collapsed": true
   },
   "source": [
    "Then manually add ID to start: \n",
    "\n",
    "`$ echo -n \"ID\" | cat - krse2011_kraken_merged_norm.tsv > temp.tsv && mv temp.tsv krse2011_kraken_merged_norm.tsv`\n",
    "\n",
    "Then run these commands to get non-zero lines of merged.tsv and merged_norm.tsv:\n",
    "\n",
    "`cat krse2011_kraken_merged.tsv | perl -alne 'use List::Util qw(sum); shift(@F); print if sum(@F)>0' > krse2011_kraken_merged_nonzero.tsv`\n",
    "\n",
    "`cat krse2011_kraken_merged_norm.tsv | perl -alne 'use List::Util qw(sum); shift(@F); print if sum(@F)>0' > krse2011_kraken_merged_norm_nonzero.tsv`\n",
    "\n",
    "Then add header line to those two files."
   ]
  },
  {
   "cell_type": "code",
   "execution_count": null,
   "metadata": {
    "collapsed": true
   },
   "outputs": [],
   "source": []
  }
 ],
 "metadata": {
  "kernelspec": {
   "display_name": "Python 2",
   "language": "python",
   "name": "python2"
  },
  "language_info": {
   "codemirror_mode": {
    "name": "ipython",
    "version": 2
   },
   "file_extension": ".py",
   "mimetype": "text/x-python",
   "name": "python",
   "nbconvert_exporter": "python",
   "pygments_lexer": "ipython2",
   "version": "2.7.9"
  }
 },
 "nbformat": 4,
 "nbformat_minor": 0
}
