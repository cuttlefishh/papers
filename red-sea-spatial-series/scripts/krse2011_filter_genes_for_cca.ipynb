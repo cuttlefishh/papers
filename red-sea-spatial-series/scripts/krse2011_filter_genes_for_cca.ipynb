{
 "cells": [
  {
   "cell_type": "code",
   "execution_count": 49,
   "metadata": {
    "collapsed": true
   },
   "outputs": [],
   "source": [
    "%matplotlib inline\n",
    "import matplotlib\n",
    "import numpy as np\n",
    "import pandas as pd\n",
    "from biom import load_table\n",
    "from biom import Table\n",
    "\n",
    "csv_file = '/Users/luke/krse2011/db/krse2011_v5_humann_KOrelAbund_read1.csv'\n",
    "df = pd.read_csv(csv_file, index_col=0)\n",
    "num_samps, num_feats = df.shape\n",
    "\n",
    "genes = df.ix[:, 20:]\n",
    "envs = df.ix[:, :20]\n",
    "\n",
    "# Filter out all genes that weren't detected\n",
    "genes = genes.loc[:, ((genes>0).sum(axis=0)==num_samps)]\n",
    "\n",
    "# Filter out all genes with less than 1e-3 (1,000 CPM)\n",
    "genes = genes.loc[:, genes.sum(axis=0) > 1e-3]\n",
    "\n",
    "# Filter out all genes with variance less than x\n",
    "genes = genes.loc[:, genes.var(axis=0) > 5e-8]\n"
   ]
  },
  {
   "cell_type": "code",
   "execution_count": 50,
   "metadata": {
    "collapsed": false
   },
   "outputs": [],
   "source": [
    "x = genes.var(axis=0)"
   ]
  },
  {
   "cell_type": "code",
   "execution_count": 51,
   "metadata": {
    "collapsed": false
   },
   "outputs": [
    {
     "data": {
      "text/plain": [
       "<matplotlib.axes._subplots.AxesSubplot at 0x10d184450>"
      ]
     },
     "execution_count": 51,
     "metadata": {},
     "output_type": "execute_result"
    },
    {
     "data": {
      "image/png": "[encoded data removed]",
      "text/plain": [
       "<matplotlib.figure.Figure at 0x10d190b50>"
      ]
     },
     "metadata": {},
     "output_type": "display_data"
    }
   ],
   "source": [
    "x.plot(kind='hist',bins=100)"
   ]
  },
  {
   "cell_type": "code",
   "execution_count": 52,
   "metadata": {
    "collapsed": false
   },
   "outputs": [
    {
     "data": {
      "text/plain": [
       "252"
      ]
     },
     "execution_count": 52,
     "metadata": {},
     "output_type": "execute_result"
    }
   ],
   "source": [
    "len(genes.columns)"
   ]
  },
  {
   "cell_type": "code",
   "execution_count": null,
   "metadata": {
    "collapsed": true
   },
   "outputs": [],
   "source": []
  }
 ],
 "metadata": {
  "kernelspec": {
   "display_name": "Python 2",
   "language": "python",
   "name": "python2"
  },
  "language_info": {
   "codemirror_mode": {
    "name": "ipython",
    "version": 2
   },
   "file_extension": ".py",
   "mimetype": "text/x-python",
   "name": "python",
   "nbconvert_exporter": "python",
   "pygments_lexer": "ipython2",
   "version": "2.7.9"
  }
 },
 "nbformat": 4,
 "nbformat_minor": 0
}
