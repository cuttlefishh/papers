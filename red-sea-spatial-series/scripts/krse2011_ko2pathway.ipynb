{
 "cells": [
  {
   "cell_type": "code",
   "execution_count": 1,
   "metadata": {
    "collapsed": false,
    "scrolled": true
   },
   "outputs": [],
   "source": [
    "from sys import argv\n",
    "import re\n",
    "import numpy as np\n",
    "import pandas as pd\n",
    "from cogent.parse import kegg_ko\n",
    "from collections import Counter\n",
    "from collections import OrderedDict\n",
    "import csv"
   ]
  },
  {
   "cell_type": "markdown",
   "metadata": {},
   "source": [
    "**Set Paths and Variables**"
   ]
  },
  {
   "cell_type": "code",
   "execution_count": 2,
   "metadata": {
    "collapsed": true
   },
   "outputs": [],
   "source": [
    "path_goi = '/Users/luke/krse2011/ordination/CCA_genes_filt3_loadings_goi.tsv' #CCA_genes_loadings_goi_test.tsv # argv[1]\n",
    "path_ko = '/Users/luke/kegg/ko' # argv[2]\n",
    "path_out = '/Users/luke/krse2011/ordination/cca-by-pathway-filt3-goi/cca_top_pathways_by_KO.csv' # argv[3]"
   ]
  },
  {
   "cell_type": "code",
   "execution_count": 167,
   "metadata": {
    "collapsed": true
   },
   "outputs": [],
   "source": [
    "top_level2 = 10\n",
    "top_level1 = 10\n",
    "num_cutoff = 5"
   ]
  },
  {
   "cell_type": "markdown",
   "metadata": {},
   "source": [
    "**Get KO Numbers from Table of CCA Loadings**"
   ]
  },
  {
   "cell_type": "code",
   "execution_count": 4,
   "metadata": {
    "collapsed": true
   },
   "outputs": [],
   "source": [
    "# list of KO numbers from table\n",
    "ko_list = []\n",
    "\n",
    "# regular expression matching KO number\n",
    "regex_ko = re.compile(r'K[0-9]{5}')"
   ]
  },
  {
   "cell_type": "code",
   "execution_count": 5,
   "metadata": {
    "collapsed": false
   },
   "outputs": [],
   "source": [
    "# go through each line and add any matching strings to list\n",
    "for line in open(path_goi).readlines():\n",
    "    ko_list.append(regex_ko.findall(line))\n",
    "\n",
    "# dataframe to series to get unique KO numbers, remove first 'None' value (neither should be necessary)\n",
    "df = pd.DataFrame(ko_list)\n",
    "ko_unique = pd.Series(df.values.ravel()).unique()[1:]"
   ]
  },
  {
   "cell_type": "markdown",
   "metadata": {},
   "source": [
    "**Parse KEGG KO Record**"
   ]
  },
  {
   "cell_type": "code",
   "execution_count": 6,
   "metadata": {
    "collapsed": false
   },
   "outputs": [],
   "source": [
    "kdata = kegg_ko.parse_ko(open(path_ko))"
   ]
  },
  {
   "cell_type": "code",
   "execution_count": 7,
   "metadata": {
    "collapsed": false
   },
   "outputs": [],
   "source": [
    "klist = list(kdata)"
   ]
  },
  {
   "cell_type": "markdown",
   "metadata": {},
   "source": [
    "**Make Dictionary of My Chosen KOs and Their Pathways**"
   ]
  },
  {
   "cell_type": "code",
   "execution_count": 311,
   "metadata": {
    "collapsed": false
   },
   "outputs": [],
   "source": [
    "# generate list of lists, with each entry having [KO, all pathway hierarchy], removing pathways named BR:koXXXXX and None\n",
    "mykpath = []\n",
    "regex_BR = re.compile(r'BR:ko')\n",
    "for record in klist:\n",
    "    for ko in ko_unique:\n",
    "        if ko == record['ENTRY']:\n",
    "            filtered = []\n",
    "            filtered = [i for i in record['CLASS'] if i[0] is not None and not regex_BR.search(i[0])]\n",
    "            #filtered = record['CLASS'] #use this if don't wish to filter BR:ko\n",
    "            newpath = [record['ENTRY'], filtered]\n",
    "            mykpath.append(newpath)"
   ]
  },
  {
   "cell_type": "code",
   "execution_count": 312,
   "metadata": {
    "collapsed": false
   },
   "outputs": [
    {
     "data": {
      "text/plain": [
       "224"
      ]
     },
     "execution_count": 312,
     "metadata": {},
     "output_type": "execute_result"
    }
   ],
   "source": [
    "len(mykpath)"
   ]
  },
  {
   "cell_type": "code",
   "execution_count": 313,
   "metadata": {
    "collapsed": true
   },
   "outputs": [],
   "source": [
    "# convert list of [KO, all pathway hierarchy] to dictionary, and make a copy for lookup at the end\n",
    "dict_mykpath = dict(zip([x[0] for x in mykpath], [x[1] for x in mykpath]))\n",
    "dict_mykpath_copy = dict_mykpath.copy()"
   ]
  },
  {
   "cell_type": "markdown",
   "metadata": {},
   "source": [
    "**With Chosen KOs (GOIs), Find KOs with Level-2 Pathways Among Top**"
   ]
  },
  {
   "cell_type": "code",
   "execution_count": 314,
   "metadata": {
    "collapsed": false,
    "scrolled": false
   },
   "outputs": [],
   "source": [
    "# extract pathway level-2, count list entries and sort\n",
    "mykpath2 = []\n",
    "for ko, paths in dict_mykpath.iteritems():\n",
    "    for path in paths:\n",
    "        mykpath2.append(path[1][2])\n",
    "pathcount2 = Counter(mykpath2)"
   ]
  },
  {
   "cell_type": "code",
   "execution_count": 315,
   "metadata": {
    "collapsed": false
   },
   "outputs": [],
   "source": [
    "# get top level-2 pathways, convert to dict, find KOs that contain those pathways\n",
    "top_pathcount2 = pathcount2.most_common(top_level2)\n",
    "dict_top_pathcount2 = OrderedDict(zip([x[0] for x in top_pathcount2], [x[1] for x in top_pathcount2]))\n",
    "ko_level2 = []\n",
    "for ko, paths in dict_mykpath.iteritems():\n",
    "    for path in paths:\n",
    "        if path[1][2] in dict_top_pathcount2:\n",
    "            ko_level2.append(ko)"
   ]
  },
  {
   "cell_type": "code",
   "execution_count": 316,
   "metadata": {
    "collapsed": false
   },
   "outputs": [],
   "source": [
    "# get unique level-2 KOs, as set\n",
    "ko_level2_unique = list(set(ko_level2))"
   ]
  },
  {
   "cell_type": "code",
   "execution_count": 317,
   "metadata": {
    "collapsed": false
   },
   "outputs": [],
   "source": [
    "# remove KOs that match top level-2 pathways\n",
    "for ko in ko_level2_unique:\n",
    "    dict_mykpath.pop(ko, None)"
   ]
  },
  {
   "cell_type": "markdown",
   "metadata": {},
   "source": [
    "**With Remaining KOs, Find KOs with Level-1 Pathways Among Top**"
   ]
  },
  {
   "cell_type": "code",
   "execution_count": 318,
   "metadata": {
    "collapsed": true
   },
   "outputs": [],
   "source": [
    "# extract pathway level-1, count list entries and sort\n",
    "mykpath1 = []\n",
    "for ko, paths in dict_mykpath.iteritems():\n",
    "    for path in paths:\n",
    "        mykpath1.append(path[1][1])\n",
    "pathcount1 = Counter(mykpath1)"
   ]
  },
  {
   "cell_type": "code",
   "execution_count": 319,
   "metadata": {
    "collapsed": true
   },
   "outputs": [],
   "source": [
    "# get top level-1 pathways, convert to dict, find KOs that contain those pathways\n",
    "top_pathcount1 = pathcount1.most_common(top_level1)\n",
    "dict_top_pathcount1 = OrderedDict(zip([x[0] for x in top_pathcount1], [x[1] for x in top_pathcount1]))\n",
    "ko_level1 = []\n",
    "for ko, paths in dict_mykpath.iteritems():\n",
    "    for path in paths:\n",
    "        if path[1][1] in dict_top_pathcount1:\n",
    "            ko_level1.append(ko)"
   ]
  },
  {
   "cell_type": "code",
   "execution_count": 320,
   "metadata": {
    "collapsed": true
   },
   "outputs": [],
   "source": [
    "# get unique level-1 KOs, as set\n",
    "ko_level1_unique = list(set(ko_level1))"
   ]
  },
  {
   "cell_type": "code",
   "execution_count": 321,
   "metadata": {
    "collapsed": true
   },
   "outputs": [],
   "source": [
    "# remove KOs that match top level-1 pathways\n",
    "for ko in ko_level1_unique:\n",
    "    dict_mykpath.pop(ko, None)"
   ]
  },
  {
   "cell_type": "markdown",
   "metadata": {},
   "source": [
    "**With Remaining KOs, Group as Other**"
   ]
  },
  {
   "cell_type": "code",
   "execution_count": 322,
   "metadata": {
    "collapsed": true
   },
   "outputs": [],
   "source": [
    "# get list of remaining KOs\n",
    "ko_other = dict_mykpath.keys()"
   ]
  },
  {
   "cell_type": "markdown",
   "metadata": {},
   "source": [
    "**Assign KOs to Pathways: Top Level-2, Recycle Unassigned KOs, Top Level-1, then Other**"
   ]
  },
  {
   "cell_type": "code",
   "execution_count": 323,
   "metadata": {
    "collapsed": false
   },
   "outputs": [],
   "source": [
    "# initialize dictionaries\n",
    "dict_level2 = OrderedDict(zip(dict_top_pathcount2.keys(), [[] for x in dict_top_pathcount2.keys()]))\n",
    "dict_level1 = OrderedDict(zip(dict_top_pathcount1.keys(), [[] for x in dict_top_pathcount1.keys()]))\n",
    "dict_other = OrderedDict()\n",
    "dict_other['Other'] = []\n",
    "\n"
   ]
  },
  {
   "cell_type": "code",
   "execution_count": 324,
   "metadata": {
    "collapsed": false
   },
   "outputs": [
    {
     "name": "stdout",
     "output_type": "stream",
     "text": [
      "K01692\n",
      "K00249\n",
      "K01488\n",
      "K00958\n",
      "K01610\n",
      "K01644\n"
     ]
    }
   ],
   "source": [
    "# level-2 assign highest pathway per KO, then remove pathways with too few counts, but recycle unassigned KOs\n",
    "ko_bool_level2 = OrderedDict(zip([x for x in ko_level2_unique], [True for x in ko_level2_unique]))\n",
    "for ko in ko_level2_unique:\n",
    "    for path, count in dict_top_pathcount2.iteritems():\n",
    "        if ko_bool_level2[ko]:\n",
    "            for entry in dict_mykpath_copy[ko]:\n",
    "                if entry[1][2] == path:\n",
    "                    dict_level2[path].append(ko)\n",
    "                    ko_bool_level2[ko] = False\n",
    "                    break\n",
    "ko_level1_unique_plus = list(ko_level1_unique)\n",
    "for key, value in dict_level2.iteritems():\n",
    "    if len(value) < num_cutoff:\n",
    "        recycle = dict_level2.pop(key, None)\n",
    "        if len(recycle) > 0:\n",
    "            for element in recycle:\n",
    "                ko_level1_unique_plus.append(element)\n",
    "                print element\n"
   ]
  },
  {
   "cell_type": "code",
   "execution_count": null,
   "metadata": {
    "collapsed": true
   },
   "outputs": [],
   "source": []
  },
  {
   "cell_type": "code",
   "execution_count": 325,
   "metadata": {
    "collapsed": false
   },
   "outputs": [
    {
     "name": "stdout",
     "output_type": "stream",
     "text": [
      "K01247\n",
      "K01971\n",
      "K01972\n",
      "K03702\n",
      "K01919\n",
      "K01256\n",
      "K01920\n",
      "K00799\n",
      "K02313\n",
      "K03406\n",
      "K07657\n"
     ]
    }
   ],
   "source": [
    "# level-1 assign highest pathway per KO, then remove pathways with too few counts\n",
    "ko_bool_level1 = OrderedDict(zip([x for x in ko_level1_unique_plus], [True for x in ko_level1_unique_plus]))\n",
    "for ko in ko_level1_unique_plus:\n",
    "    for path, count in dict_top_pathcount1.iteritems():\n",
    "        if ko_bool_level1[ko]:\n",
    "            for entry in dict_mykpath_copy[ko]:\n",
    "                if entry[1][1] == path:\n",
    "                    dict_level1[path].append(ko)\n",
    "                    ko_bool_level1[ko] = False\n",
    "                    break\n",
    "ko_other_plus = list(ko_other)\n",
    "for key, value in dict_level1.iteritems():\n",
    "    if len(value) < num_cutoff:\n",
    "        recycle1 = dict_level1.pop(key, None)\n",
    "        if len(recycle1) > 0:\n",
    "            for element in recycle1:\n",
    "                ko_other_plus.append(element)\n",
    "                print element\n",
    "        "
   ]
  },
  {
   "cell_type": "code",
   "execution_count": 326,
   "metadata": {
    "collapsed": true
   },
   "outputs": [],
   "source": [
    "# other\n",
    "for ko in ko_other_plus:\n",
    "    dict_other['Other'].append(ko)\n",
    "    \n",
    "# hacky solution for K01488, whose level-2 pathway (Purine metabolism) \n",
    "# only has 2 counts but level-1 pathways (Nucleotide Metabolism and \n",
    "# Immune System Diseases) are not in my list -- THIS IS A BUG!\n",
    "dict_other['Other'].append('K01488')"
   ]
  },
  {
   "cell_type": "markdown",
   "metadata": {},
   "source": [
    "**Combine Dicts of Pathway => KOs and Write to File**"
   ]
  },
  {
   "cell_type": "code",
   "execution_count": 327,
   "metadata": {
    "collapsed": false,
    "scrolled": true
   },
   "outputs": [],
   "source": [
    "# combine 3 dicts into 1\n",
    "output_dict = OrderedDict(dict_level2.items() + dict_level1.items() + dict_other.items())"
   ]
  },
  {
   "cell_type": "code",
   "execution_count": 328,
   "metadata": {
    "collapsed": false
   },
   "outputs": [],
   "source": [
    "# remove commas from pathway names\n",
    "output_dict2 = OrderedDict()\n",
    "regex_comma = re.compile(r',')\n",
    "for key, value in output_dict.iteritems():\n",
    "    output_dict2[regex_comma.sub('',key)] = value"
   ]
  },
  {
   "cell_type": "code",
   "execution_count": 329,
   "metadata": {
    "collapsed": true
   },
   "outputs": [],
   "source": [
    "# write output\n",
    "writer = csv.writer(open(path_out, 'wb'))\n",
    "for key, value in output_dict2.items():\n",
    "   writer.writerow([key, value])"
   ]
  },
  {
   "cell_type": "markdown",
   "metadata": {
    "collapsed": true
   },
   "source": [
    "**Printing for Reference (note commas not removed in this output but are in written file)**"
   ]
  },
  {
   "cell_type": "code",
   "execution_count": 330,
   "metadata": {
    "collapsed": false,
    "scrolled": true
   },
   "outputs": [
    {
     "name": "stdout",
     "output_type": "stream",
     "text": [
      "Oxidative phosphorylation 23\n",
      "ABC transporters 15\n",
      "Pyrimidine metabolism 13\n",
      "Carbon fixation pathways in prokaryotes 12\n",
      "Glycine, serine and threonine metabolism 10\n",
      "Ribosome 9\n",
      "Propanoate metabolism 9\n",
      "Purine metabolism 9\n",
      "Porphyrin and chlorophyll metabolism 9\n",
      "Citrate cycle (TCA cycle) 9\n",
      "118\n"
     ]
    }
   ],
   "source": [
    "mysum = 0\n",
    "for path, count in dict_top_pathcount2.iteritems():\n",
    "    print path, count\n",
    "    mysum = mysum + count\n",
    "print mysum"
   ]
  },
  {
   "cell_type": "code",
   "execution_count": 331,
   "metadata": {
    "collapsed": false,
    "scrolled": false
   },
   "outputs": [
    {
     "name": "stdout",
     "output_type": "stream",
     "text": [
      "Amino Acid Metabolism 19\n",
      "Carbohydrate Metabolism 14\n",
      "Energy Metabolism 10\n",
      "Metabolism of Cofactors and Vitamins 10\n",
      "Replication and Repair 10\n",
      "Metabolism of Terpenoids and Polyketides 7\n",
      "Metabolism of Other Amino Acids 7\n",
      "Folding, Sorting and Degradation 6\n",
      "Translation 5\n",
      "Signal Transduction 4\n",
      "92\n"
     ]
    }
   ],
   "source": [
    "mysum = 0\n",
    "for path, count in dict_top_pathcount1.iteritems():\n",
    "    print path, count\n",
    "    mysum = mysum + count\n",
    "print mysum"
   ]
  },
  {
   "cell_type": "code",
   "execution_count": 332,
   "metadata": {
    "collapsed": false,
    "scrolled": true
   },
   "outputs": [
    {
     "data": {
      "text/plain": [
       "118"
      ]
     },
     "execution_count": 332,
     "metadata": {},
     "output_type": "execute_result"
    }
   ],
   "source": [
    "len(ko_level2)"
   ]
  },
  {
   "cell_type": "code",
   "execution_count": 333,
   "metadata": {
    "collapsed": false,
    "scrolled": true
   },
   "outputs": [
    {
     "data": {
      "text/plain": [
       "94"
      ]
     },
     "execution_count": 333,
     "metadata": {},
     "output_type": "execute_result"
    }
   ],
   "source": [
    "len(ko_level2_unique)"
   ]
  },
  {
   "cell_type": "code",
   "execution_count": 334,
   "metadata": {
    "collapsed": false
   },
   "outputs": [
    {
     "data": {
      "text/plain": [
       "92"
      ]
     },
     "execution_count": 334,
     "metadata": {},
     "output_type": "execute_result"
    }
   ],
   "source": [
    "len(ko_level1)"
   ]
  },
  {
   "cell_type": "code",
   "execution_count": 335,
   "metadata": {
    "collapsed": false
   },
   "outputs": [
    {
     "data": {
      "text/plain": [
       "65"
      ]
     },
     "execution_count": 335,
     "metadata": {},
     "output_type": "execute_result"
    }
   ],
   "source": [
    "len(ko_level1_unique)"
   ]
  },
  {
   "cell_type": "code",
   "execution_count": 336,
   "metadata": {
    "collapsed": false
   },
   "outputs": [
    {
     "data": {
      "text/plain": [
       "71"
      ]
     },
     "execution_count": 336,
     "metadata": {},
     "output_type": "execute_result"
    }
   ],
   "source": [
    "len(ko_level1_unique_plus) # includes KOs from ko_level2_unique not matched due to low pathway count"
   ]
  },
  {
   "cell_type": "code",
   "execution_count": 337,
   "metadata": {
    "collapsed": false
   },
   "outputs": [
    {
     "data": {
      "text/plain": [
       "65"
      ]
     },
     "execution_count": 337,
     "metadata": {},
     "output_type": "execute_result"
    }
   ],
   "source": [
    "len(ko_other)"
   ]
  },
  {
   "cell_type": "code",
   "execution_count": 338,
   "metadata": {
    "collapsed": false
   },
   "outputs": [
    {
     "data": {
      "text/plain": [
       "224"
      ]
     },
     "execution_count": 338,
     "metadata": {},
     "output_type": "execute_result"
    }
   ],
   "source": [
    "len(ko_level2_unique) + len(ko_level1_unique) + len(ko_other)"
   ]
  },
  {
   "cell_type": "code",
   "execution_count": 339,
   "metadata": {
    "collapsed": false,
    "scrolled": true
   },
   "outputs": [
    {
     "name": "stdout",
     "output_type": "stream",
     "text": [
      "224\n"
     ]
    }
   ],
   "source": [
    "out_file = open(\"/Users/luke/krse2011/ordination/cca-by-pathway-filt3-goi/test.txt\", \"w\")\n",
    "\n",
    "x = 0\n",
    "for key, value in output_dict2.iteritems():\n",
    "    out_file.write('\\n'.join(value))\n",
    "    out_file.write('\\n')\n",
    "    #print key, '\\t', len(value)\n",
    "    x = x + len(value)\n",
    "print x\n",
    "\n",
    "out_file.close()"
   ]
  },
  {
   "cell_type": "code",
   "execution_count": 340,
   "metadata": {
    "collapsed": false
   },
   "outputs": [],
   "source": [
    "out_file = open(\"/Users/luke/krse2011/ordination/cca-by-pathway-filt3-goi/test2.txt\", \"w\")\n",
    "out_file.write('\\n'.join(ko_level2_unique + ko_level1_unique + ko_other))\n",
    "out_file.write('\\n')\n",
    "out_file.close()"
   ]
  },
  {
   "cell_type": "code",
   "execution_count": null,
   "metadata": {
    "collapsed": true
   },
   "outputs": [],
   "source": []
  }
 ],
 "metadata": {
  "kernelspec": {
   "display_name": "Python 2",
   "language": "python",
   "name": "python2"
  },
  "language_info": {
   "codemirror_mode": {
    "name": "ipython",
    "version": 2
   },
   "file_extension": ".py",
   "mimetype": "text/x-python",
   "name": "python",
   "nbconvert_exporter": "python",
   "pygments_lexer": "ipython2",
   "version": "2.7.9"
  }
 },
 "nbformat": 4,
 "nbformat_minor": 0
}
