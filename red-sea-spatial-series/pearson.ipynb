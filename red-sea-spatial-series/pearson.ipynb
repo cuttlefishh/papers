{
 "cells": [
  {
   "cell_type": "code",
   "execution_count": 1,
   "metadata": {
    "collapsed": false
   },
   "outputs": [
    {
     "name": "stderr",
     "output_type": "stream",
     "text": [
      "/Users/luke/anaconda/envs/qiime190/lib/python2.7/site-packages/matplotlib/__init__.py:872: UserWarning: axes.color_cycle is deprecated and replaced with axes.prop_cycle; please use the latter.\n",
      "  warnings.warn(self.msg_depr % (key, alt_key))\n"
     ]
    },
    {
     "data": {
      "text/plain": [
       "<matplotlib.axes._subplots.AxesSubplot at 0x10b65cd90>"
      ]
     },
     "execution_count": 1,
     "metadata": {},
     "output_type": "execute_result"
    },
    {
     "data": {
      "image/png": "[encoded data removed]",
      "text/plain": [
       "<matplotlib.figure.Figure at 0x10b65c610>"
      ]
     },
     "metadata": {},
     "output_type": "display_data"
    }
   ],
   "source": [
    "%matplotlib inline\n",
    "from string import letters\n",
    "import numpy as np\n",
    "import pandas as pd\n",
    "import seaborn as sns\n",
    "import matplotlib.pyplot as plt\n",
    "\n",
    "sns.set(style=\"white\")\n",
    "\n",
    "# Generate a large random dataset\n",
    "rs = np.random.RandomState(33)\n",
    "d = pd.DataFrame(data=rs.normal(size=(100, 26)),\n",
    "                 columns=list(letters[:26]))\n",
    "\n",
    "# Compute the correlation matrix\n",
    "corr = d.corr()\n",
    "\n",
    "# Generate a mask for the upper triangle\n",
    "mask = np.zeros_like(corr, dtype=np.bool)\n",
    "mask[np.triu_indices_from(mask)] = True\n",
    "\n",
    "# Set up the matplotlib figure\n",
    "f, ax = plt.subplots(figsize=(11, 9))\n",
    "\n",
    "# Generate a custom diverging colormap\n",
    "cmap = sns.diverging_palette(220, 10, as_cmap=True)\n",
    "\n",
    "# Draw the heatmap with the mask and correct aspect ratio\n",
    "sns.heatmap(corr, mask=mask, cmap=cmap, vmax=.3,\n",
    "            square=True, xticklabels=5, yticklabels=5,\n",
    "            linewidths=.5, cbar_kws={\"shrink\": .5}, ax=ax)"
   ]
  },
  {
   "cell_type": "code",
   "execution_count": 2,
   "metadata": {
    "collapsed": true
   },
   "outputs": [],
   "source": [
    "from scipy.stats.stats import pearsonr"
   ]
  },
  {
   "cell_type": "code",
   "execution_count": 3,
   "metadata": {
    "collapsed": true
   },
   "outputs": [],
   "source": [
    "df_metadata = pd.read_csv('~/krse2011/db/krse2011_v5_metadata.csv')"
   ]
  },
  {
   "cell_type": "code",
   "execution_count": 5,
   "metadata": {
    "collapsed": false
   },
   "outputs": [],
   "source": [
    "params = df_metadata.columns[6:15]"
   ]
  },
  {
   "cell_type": "code",
   "execution_count": 6,
   "metadata": {
    "collapsed": false
   },
   "outputs": [],
   "source": [
    "df_pearson = pd.DataFrame(0.0, params, params)"
   ]
  },
  {
   "cell_type": "code",
   "execution_count": 7,
   "metadata": {
    "collapsed": false
   },
   "outputs": [],
   "source": [
    "for x in params:\n",
    "    for y in params:\n",
    "        df_pearson[x][y] = pearsonr(df_metadata[x], df_metadata[y])[0]"
   ]
  },
  {
   "cell_type": "code",
   "execution_count": 8,
   "metadata": {
    "collapsed": false
   },
   "outputs": [
    {
     "data": {
      "text/html": [
       "<div>\n",
       "<table border=\"1\" class=\"dataframe\">\n",
       "  <thead>\n",
       "    <tr style=\"text-align: right;\">\n",
       "      <th></th>\n",
       "      <th>depth</th>\n",
       "      <th>temperature</th>\n",
       "      <th>salinity</th>\n",
       "      <th>oxygen</th>\n",
       "      <th>fluorescence</th>\n",
       "      <th>turbidity</th>\n",
       "      <th>nitrate</th>\n",
       "      <th>phosphate</th>\n",
       "      <th>silicate</th>\n",
       "    </tr>\n",
       "  </thead>\n",
       "  <tbody>\n",
       "    <tr>\n",
       "      <th>depth</th>\n",
       "      <td>1.000000</td>\n",
       "      <td>-0.741523</td>\n",
       "      <td>0.472889</td>\n",
       "      <td>-0.807966</td>\n",
       "      <td>-0.156768</td>\n",
       "      <td>-0.496162</td>\n",
       "      <td>0.819898</td>\n",
       "      <td>0.721308</td>\n",
       "      <td>0.775187</td>\n",
       "    </tr>\n",
       "    <tr>\n",
       "      <th>temperature</th>\n",
       "      <td>-0.741523</td>\n",
       "      <td>1.000000</td>\n",
       "      <td>-0.332932</td>\n",
       "      <td>0.794018</td>\n",
       "      <td>-0.244893</td>\n",
       "      <td>0.302637</td>\n",
       "      <td>-0.800616</td>\n",
       "      <td>-0.738702</td>\n",
       "      <td>-0.769880</td>\n",
       "    </tr>\n",
       "    <tr>\n",
       "      <th>salinity</th>\n",
       "      <td>0.472889</td>\n",
       "      <td>-0.332932</td>\n",
       "      <td>1.000000</td>\n",
       "      <td>-0.089328</td>\n",
       "      <td>-0.574253</td>\n",
       "      <td>-0.769554</td>\n",
       "      <td>0.098381</td>\n",
       "      <td>-0.059215</td>\n",
       "      <td>0.060730</td>\n",
       "    </tr>\n",
       "    <tr>\n",
       "      <th>oxygen</th>\n",
       "      <td>-0.807966</td>\n",
       "      <td>0.794018</td>\n",
       "      <td>-0.089328</td>\n",
       "      <td>1.000000</td>\n",
       "      <td>-0.162774</td>\n",
       "      <td>0.139179</td>\n",
       "      <td>-0.972497</td>\n",
       "      <td>-0.956193</td>\n",
       "      <td>-0.942228</td>\n",
       "    </tr>\n",
       "    <tr>\n",
       "      <th>fluorescence</th>\n",
       "      <td>-0.156768</td>\n",
       "      <td>-0.244893</td>\n",
       "      <td>-0.574253</td>\n",
       "      <td>-0.162774</td>\n",
       "      <td>1.000000</td>\n",
       "      <td>0.641099</td>\n",
       "      <td>0.175021</td>\n",
       "      <td>0.307055</td>\n",
       "      <td>0.150997</td>\n",
       "    </tr>\n",
       "    <tr>\n",
       "      <th>turbidity</th>\n",
       "      <td>-0.496162</td>\n",
       "      <td>0.302637</td>\n",
       "      <td>-0.769554</td>\n",
       "      <td>0.139179</td>\n",
       "      <td>0.641099</td>\n",
       "      <td>1.000000</td>\n",
       "      <td>-0.157729</td>\n",
       "      <td>0.000043</td>\n",
       "      <td>-0.124741</td>\n",
       "    </tr>\n",
       "    <tr>\n",
       "      <th>nitrate</th>\n",
       "      <td>0.819898</td>\n",
       "      <td>-0.800616</td>\n",
       "      <td>0.098381</td>\n",
       "      <td>-0.972497</td>\n",
       "      <td>0.175021</td>\n",
       "      <td>-0.157729</td>\n",
       "      <td>1.000000</td>\n",
       "      <td>0.968214</td>\n",
       "      <td>0.954963</td>\n",
       "    </tr>\n",
       "    <tr>\n",
       "      <th>phosphate</th>\n",
       "      <td>0.721308</td>\n",
       "      <td>-0.738702</td>\n",
       "      <td>-0.059215</td>\n",
       "      <td>-0.956193</td>\n",
       "      <td>0.307055</td>\n",
       "      <td>0.000043</td>\n",
       "      <td>0.968214</td>\n",
       "      <td>1.000000</td>\n",
       "      <td>0.946931</td>\n",
       "    </tr>\n",
       "    <tr>\n",
       "      <th>silicate</th>\n",
       "      <td>0.775187</td>\n",
       "      <td>-0.769880</td>\n",
       "      <td>0.060730</td>\n",
       "      <td>-0.942228</td>\n",
       "      <td>0.150997</td>\n",
       "      <td>-0.124741</td>\n",
       "      <td>0.954963</td>\n",
       "      <td>0.946931</td>\n",
       "      <td>1.000000</td>\n",
       "    </tr>\n",
       "  </tbody>\n",
       "</table>\n",
       "</div>"
      ],
      "text/plain": [
       "                 depth  temperature  salinity    oxygen  fluorescence  \\\n",
       "depth         1.000000    -0.741523  0.472889 -0.807966     -0.156768   \n",
       "temperature  -0.741523     1.000000 -0.332932  0.794018     -0.244893   \n",
       "salinity      0.472889    -0.332932  1.000000 -0.089328     -0.574253   \n",
       "oxygen       -0.807966     0.794018 -0.089328  1.000000     -0.162774   \n",
       "fluorescence -0.156768    -0.244893 -0.574253 -0.162774      1.000000   \n",
       "turbidity    -0.496162     0.302637 -0.769554  0.139179      0.641099   \n",
       "nitrate       0.819898    -0.800616  0.098381 -0.972497      0.175021   \n",
       "phosphate     0.721308    -0.738702 -0.059215 -0.956193      0.307055   \n",
       "silicate      0.775187    -0.769880  0.060730 -0.942228      0.150997   \n",
       "\n",
       "              turbidity   nitrate  phosphate  silicate  \n",
       "depth         -0.496162  0.819898   0.721308  0.775187  \n",
       "temperature    0.302637 -0.800616  -0.738702 -0.769880  \n",
       "salinity      -0.769554  0.098381  -0.059215  0.060730  \n",
       "oxygen         0.139179 -0.972497  -0.956193 -0.942228  \n",
       "fluorescence   0.641099  0.175021   0.307055  0.150997  \n",
       "turbidity      1.000000 -0.157729   0.000043 -0.124741  \n",
       "nitrate       -0.157729  1.000000   0.968214  0.954963  \n",
       "phosphate      0.000043  0.968214   1.000000  0.946931  \n",
       "silicate      -0.124741  0.954963   0.946931  1.000000  "
      ]
     },
     "execution_count": 8,
     "metadata": {},
     "output_type": "execute_result"
    }
   ],
   "source": [
    "df_pearson"
   ]
  },
  {
   "cell_type": "code",
   "execution_count": 9,
   "metadata": {
    "collapsed": false
   },
   "outputs": [
    {
     "data": {
      "text/plain": [
       "<matplotlib.axes._subplots.AxesSubplot at 0x10be83350>"
      ]
     },
     "execution_count": 9,
     "metadata": {},
     "output_type": "execute_result"
    },
    {
     "data": {
      "image/png": "[encoded data removed]",
      "text/plain": [
       "<matplotlib.figure.Figure at 0x106ca1c90>"
      ]
     },
     "metadata": {},
     "output_type": "display_data"
    }
   ],
   "source": [
    "# Generate a mask for the upper triangle\n",
    "mask = np.zeros_like(df_pearson, dtype=np.bool)\n",
    "mask[np.triu_indices_from(mask)] = True\n",
    "\n",
    "# Set up the matplotlib figure\n",
    "f, ax = plt.subplots(figsize=(11, 9))\n",
    "\n",
    "# Generate a custom diverging colormap\n",
    "cmap = sns.diverging_palette(220, 10, as_cmap=True)\n",
    "\n",
    "# Draw the heatmap with the mask and correct aspect ratio\n",
    "sns.heatmap(df_pearson, mask=mask, cmap=cmap, vmax=.3,\n",
    "            square=True,\n",
    "            linewidths=.5, cbar_kws={\"shrink\": .5}, ax=ax)"
   ]
  },
  {
   "cell_type": "code",
   "execution_count": 10,
   "metadata": {
    "collapsed": false
   },
   "outputs": [
    {
     "data": {
      "text/plain": [
       "<matplotlib.figure.Figure at 0x10537c610>"
      ]
     },
     "metadata": {},
     "output_type": "display_data"
    }
   ],
   "source": [
    "plt.savefig('pearson.pdf')"
   ]
  },
  {
   "cell_type": "code",
   "execution_count": null,
   "metadata": {
    "collapsed": true
   },
   "outputs": [],
   "source": []
  }
 ],
 "metadata": {
  "kernelspec": {
   "display_name": "Python 2",
   "language": "python",
   "name": "python2"
  },
  "language_info": {
   "codemirror_mode": {
    "name": "ipython",
    "version": 2
   },
   "file_extension": ".py",
   "mimetype": "text/x-python",
   "name": "python",
   "nbconvert_exporter": "python",
   "pygments_lexer": "ipython2",
   "version": "2.7.11"
  }
 },
 "nbformat": 4,
 "nbformat_minor": 0
}
