{
 "cells": [
  {
   "cell_type": "code",
   "execution_count": 124,
   "metadata": {
    "collapsed": false,
    "scrolled": true
   },
   "outputs": [],
   "source": [
    "from sys import argv\n",
    "import re\n",
    "import pandas as pd\n",
    "from Bio.KEGG import Enzyme"
   ]
  },
  {
   "cell_type": "markdown",
   "metadata": {},
   "source": [
    "**Get Unique EC Numbers from Tables of RS-only Clusters**"
   ]
  },
  {
   "cell_type": "code",
   "execution_count": 125,
   "metadata": {
    "collapsed": true
   },
   "outputs": [],
   "source": [
    "path_table = \"/Users/luke/singlecell/clusters/orthomcl-pro3/table.RSonly_pro.txt\" # argv[1]\n",
    "path_enzyme = \"/Users/luke/singlecell/clusters/enzyme\" # argv[2]"
   ]
  },
  {
   "cell_type": "code",
   "execution_count": 126,
   "metadata": {
    "collapsed": true
   },
   "outputs": [],
   "source": [
    "# list of EC numbers from table\n",
    "ec_list = []\n",
    "\n",
    "# regular expression matching EC number\n",
    "regex_ec = re.compile(r'EC [0-9]*\\.[0-9]*\\.[0-9]*\\.[0-9]*')"
   ]
  },
  {
   "cell_type": "code",
   "execution_count": 127,
   "metadata": {
    "collapsed": false
   },
   "outputs": [],
   "source": [
    "# go through each line and add any matching strings to list\n",
    "for line in open(path_table).readlines():\n",
    "    ec_list.append(regex_ec.findall(line))\n",
    "\n",
    "# dataframe to series to get unique EC numbers, remove first 'None' value\n",
    "df = pd.DataFrame(ec_list)\n",
    "ec_unique = pd.Series(df.values.ravel()).unique()[1:]"
   ]
  },
  {
   "cell_type": "markdown",
   "metadata": {},
   "source": [
    "**Parse KEGG Enzyme Records**"
   ]
  },
  {
   "cell_type": "code",
   "execution_count": 128,
   "metadata": {
    "collapsed": true
   },
   "outputs": [],
   "source": [
    "records = Enzyme.parse(open(path_enzyme))"
   ]
  },
  {
   "cell_type": "code",
   "execution_count": 129,
   "metadata": {
    "collapsed": true
   },
   "outputs": [],
   "source": [
    "rlist = list(records)"
   ]
  },
  {
   "cell_type": "code",
   "execution_count": 130,
   "metadata": {
    "collapsed": false
   },
   "outputs": [
    {
     "name": "stdout",
     "output_type": "stream",
     "text": [
      "EC 1.1.1.14\tec00051\tFructose and mannose metabolism\n",
      "EC 1.1.1.14\tec01100\tMetabolic pathways\n",
      "EC 2.1.1.37\tec00270\tCysteine and methionine metabolism\n",
      "EC 2.1.1.37\tec01100\tMetabolic pathways\n",
      "EC 2.1.1.64\tec00130\tUbiquinone and other terpenoid-quinone biosynthesis\n",
      "EC 2.1.1.64\tec01100\tMetabolic pathways\n",
      "EC 2.1.1.64\tec01110\tBiosynthesis of secondary metabolites\n",
      "EC 2.1.1.72\tNA\tNA\n",
      "EC 2.1.3.2\tec00240\tPyrimidine metabolism\n",
      "EC 2.1.3.2\tec00250\tAlanine, aspartate and glutamate metabolism\n",
      "EC 2.1.3.2\tec01100\tMetabolic pathways\n",
      "EC 2.4.1.15\tec00500\tStarch and sucrose metabolism\n",
      "EC 2.4.1.18\tec00500\tStarch and sucrose metabolism\n",
      "EC 2.4.1.18\tec01100\tMetabolic pathways\n",
      "EC 2.4.1.129\tec00550\tPeptidoglycan biosynthesis\n",
      "EC 2.7.7.43\tec00520\tAmino sugar and nucleotide sugar metabolism\n",
      "EC 2.7.7.43\tec01100\tMetabolic pathways\n",
      "EC 3.1.21.3\tNA\tNA\n",
      "EC 3.1.21.4\tNA\tNA\n",
      "EC 3.5.1.87\tNA\tNA\n",
      "EC 3.5.3.11\tec00330\tArginine and proline metabolism\n",
      "EC 3.5.3.11\tec01100\tMetabolic pathways\n",
      "EC 4.1.1.9\tec00410\tbeta-Alanine metabolism\n",
      "EC 4.1.1.9\tec00640\tPropanoate metabolism\n",
      "EC 4.1.1.9\tec01100\tMetabolic pathways\n",
      "EC 4.4.1.8\tec00270\tCysteine and methionine metabolism\n",
      "EC 4.4.1.8\tec00450\tSelenocompound metabolism\n",
      "EC 4.4.1.8\tec00910\tNitrogen metabolism\n",
      "EC 4.4.1.8\tec00920\tSulfur metabolism\n",
      "EC 4.4.1.8\tec01100\tMetabolic pathways\n",
      "EC 4.4.1.8\tec01110\tBiosynthesis of secondary metabolites\n",
      "EC 5.1.3.2\tec00052\tGalactose metabolism\n",
      "EC 5.1.3.2\tec00520\tAmino sugar and nucleotide sugar metabolism\n",
      "EC 5.1.3.2\tec01100\tMetabolic pathways\n",
      "EC 5.1.3.13\tec00521\tStreptomycin biosynthesis\n",
      "EC 5.1.3.13\tec00523\tPolyketide sugar unit biosynthesis\n",
      "EC 5.1.3.13\tec01100\tMetabolic pathways\n",
      "EC 5.1.3.13\tec01110\tBiosynthesis of secondary metabolites\n"
     ]
    }
   ],
   "source": [
    "z = None\n",
    "for record in rlist:\n",
    "    for ec in ec_unique:\n",
    "        z = re.search(record.entry + '$', ec) # match EC number at end of line\n",
    "        if z is not None:\n",
    "            if len(record.pathway) > 0:\n",
    "                for pathway in record.pathway:\n",
    "                    print \"EC %s\\t%s\\t%s\" % (record.entry, pathway[1], pathway[2])\n",
    "            else:\n",
    "                print \"EC %s\\tNA\\tNA\" % (record.entry)"
   ]
  },
  {
   "cell_type": "code",
   "execution_count": null,
   "metadata": {
    "collapsed": true
   },
   "outputs": [],
   "source": []
  }
 ],
 "metadata": {
  "anaconda-cloud": {},
  "kernelspec": {
   "display_name": "Python [conda env:emp-py2]",
   "language": "python",
   "name": "conda-env-emp-py2-py"
  },
  "language_info": {
   "codemirror_mode": {
    "name": "ipython",
    "version": 2
   },
   "file_extension": ".py",
   "mimetype": "text/x-python",
   "name": "python",
   "nbconvert_exporter": "python",
   "pygments_lexer": "ipython2",
   "version": "2.7.12"
  }
 },
 "nbformat": 4,
 "nbformat_minor": 0
}
