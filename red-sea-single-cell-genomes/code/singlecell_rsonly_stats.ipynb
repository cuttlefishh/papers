{
 "cells": [
  {
   "cell_type": "code",
   "execution_count": 1,
   "metadata": {
    "collapsed": true
   },
   "outputs": [],
   "source": [
    "import pandas as pd\n",
    "import matplotlib.pyplot as plt\n",
    "import seaborn as sns\n",
    "%matplotlib inline"
   ]
  },
  {
   "cell_type": "code",
   "execution_count": 2,
   "metadata": {
    "collapsed": true
   },
   "outputs": [],
   "source": [
    "sns.set(style='ticks', context='paper', font_scale=1.5)"
   ]
  },
  {
   "cell_type": "code",
   "execution_count": 3,
   "metadata": {
    "collapsed": false
   },
   "outputs": [
    {
     "data": {
      "text/html": [
       "<div>\n",
       "<table border=\"1\" class=\"dataframe\">\n",
       "  <thead>\n",
       "    <tr style=\"text-align: right;\">\n",
       "      <th></th>\n",
       "      <th>sar3</th>\n",
       "      <th>sar4</th>\n",
       "      <th>pro3</th>\n",
       "      <th>pro4</th>\n",
       "    </tr>\n",
       "  </thead>\n",
       "  <tbody>\n",
       "    <tr>\n",
       "      <th>Trad genomes</th>\n",
       "      <td>8</td>\n",
       "      <td>26</td>\n",
       "      <td>13</td>\n",
       "      <td>41</td>\n",
       "    </tr>\n",
       "    <tr>\n",
       "      <th>Non-RS SAGs</th>\n",
       "      <td>0</td>\n",
       "      <td>0</td>\n",
       "      <td>10</td>\n",
       "      <td>99</td>\n",
       "    </tr>\n",
       "    <tr>\n",
       "      <th>RS SAGs</th>\n",
       "      <td>21</td>\n",
       "      <td>21</td>\n",
       "      <td>5</td>\n",
       "      <td>5</td>\n",
       "    </tr>\n",
       "    <tr>\n",
       "      <th>All OGs</th>\n",
       "      <td>6506</td>\n",
       "      <td>5272</td>\n",
       "      <td>9328</td>\n",
       "      <td>10439</td>\n",
       "    </tr>\n",
       "    <tr>\n",
       "      <th>Red Sea-assoc. OGs</th>\n",
       "      <td>3373</td>\n",
       "      <td>878</td>\n",
       "      <td>1192</td>\n",
       "      <td>96</td>\n",
       "    </tr>\n",
       "  </tbody>\n",
       "</table>\n",
       "</div>"
      ],
      "text/plain": [
       "                    sar3  sar4  pro3   pro4\n",
       "Trad genomes           8    26    13     41\n",
       "Non-RS SAGs            0     0    10     99\n",
       "RS SAGs               21    21     5      5\n",
       "All OGs             6506  5272  9328  10439\n",
       "Red Sea-assoc. OGs  3373   878  1192     96"
      ]
     },
     "execution_count": 3,
     "metadata": {},
     "output_type": "execute_result"
    }
   ],
   "source": [
    "df = pd.read_excel('/Users/luke.thompson/singlecell/clusters/rsonly_stats.xlsx')\n",
    "df"
   ]
  },
  {
   "cell_type": "code",
   "execution_count": 4,
   "metadata": {
    "collapsed": false,
    "scrolled": true
   },
   "outputs": [
    {
     "data": {
      "text/html": [
       "<div>\n",
       "<table border=\"1\" class=\"dataframe\">\n",
       "  <thead>\n",
       "    <tr style=\"text-align: right;\">\n",
       "      <th></th>\n",
       "      <th>Set of OGs</th>\n",
       "      <th>clusters</th>\n",
       "      <th>count</th>\n",
       "    </tr>\n",
       "  </thead>\n",
       "  <tbody>\n",
       "    <tr>\n",
       "      <th>0</th>\n",
       "      <td>All OGs</td>\n",
       "      <td>sar3</td>\n",
       "      <td>6506</td>\n",
       "    </tr>\n",
       "    <tr>\n",
       "      <th>1</th>\n",
       "      <td>All OGs</td>\n",
       "      <td>sar4</td>\n",
       "      <td>5272</td>\n",
       "    </tr>\n",
       "    <tr>\n",
       "      <th>2</th>\n",
       "      <td>All OGs</td>\n",
       "      <td>pro3</td>\n",
       "      <td>9328</td>\n",
       "    </tr>\n",
       "    <tr>\n",
       "      <th>3</th>\n",
       "      <td>All OGs</td>\n",
       "      <td>pro4</td>\n",
       "      <td>10439</td>\n",
       "    </tr>\n",
       "    <tr>\n",
       "      <th>4</th>\n",
       "      <td>Red Sea-assoc. OGs</td>\n",
       "      <td>sar3</td>\n",
       "      <td>3373</td>\n",
       "    </tr>\n",
       "    <tr>\n",
       "      <th>5</th>\n",
       "      <td>Red Sea-assoc. OGs</td>\n",
       "      <td>sar4</td>\n",
       "      <td>878</td>\n",
       "    </tr>\n",
       "    <tr>\n",
       "      <th>6</th>\n",
       "      <td>Red Sea-assoc. OGs</td>\n",
       "      <td>pro3</td>\n",
       "      <td>1192</td>\n",
       "    </tr>\n",
       "    <tr>\n",
       "      <th>7</th>\n",
       "      <td>Red Sea-assoc. OGs</td>\n",
       "      <td>pro4</td>\n",
       "      <td>96</td>\n",
       "    </tr>\n",
       "  </tbody>\n",
       "</table>\n",
       "</div>"
      ],
      "text/plain": [
       "           Set of OGs clusters  count\n",
       "0             All OGs     sar3   6506\n",
       "1             All OGs     sar4   5272\n",
       "2             All OGs     pro3   9328\n",
       "3             All OGs     pro4  10439\n",
       "4  Red Sea-assoc. OGs     sar3   3373\n",
       "5  Red Sea-assoc. OGs     sar4    878\n",
       "6  Red Sea-assoc. OGs     pro3   1192\n",
       "7  Red Sea-assoc. OGs     pro4     96"
      ]
     },
     "execution_count": 4,
     "metadata": {},
     "output_type": "execute_result"
    }
   ],
   "source": [
    "df2 = pd.DataFrame(df.iloc[-2:].stack())\n",
    "df2.reset_index(inplace=True)\n",
    "df2.columns = ['Set of OGs', 'clusters', 'count']\n",
    "df2"
   ]
  },
  {
   "cell_type": "code",
   "execution_count": 9,
   "metadata": {
    "collapsed": false
   },
   "outputs": [
    {
     "data": {
      "image/png": "[encoded data removed]",
      "text/plain": [
       "<matplotlib.figure.Figure at 0x1112e73c8>"
      ]
     },
     "metadata": {},
     "output_type": "display_data"
    }
   ],
   "source": [
    "sns.barplot(data=df2, x='clusters', y='count', hue='Set of OGs', \n",
    "            palette=[sns.xkcd_rgb['light pink'], sns.xkcd_rgb['red']])\n",
    "plt.ylabel('Count')\n",
    "plt.xlabel('')\n",
    "plt.xticks([-0.5, 0.5, 1.5, 2.5],\n",
    "           ['SAR11 clusters v1\\n(%s Red Sea SAGs,\\n%s other genomes)' % (df.sar3['RS SAGs'], df.sar3['Trad genomes']+df.sar3['Non-RS SAGs']), \n",
    "            'SAR11 clusters v2\\n(%s Red Sea SAGs,\\n%s other genomes)' % (df.sar4['RS SAGs'], df.sar4['Trad genomes']+df.sar4['Non-RS SAGs']),  \n",
    "            'Proch. clusters v1\\n(%s Red Sea SAGs,\\n%s other genomes)' % (df.pro3['RS SAGs'], df.pro3['Trad genomes']+df.pro3['Non-RS SAGs']),  \n",
    "            'Proch. clusters v2\\n(%s Red Sea SAGs,\\n%s other genomes)' % (df.pro4['RS SAGs'], df.pro4['Trad genomes']+df.pro4['Non-RS SAGs'])], \n",
    "           rotation=30)\n",
    "plt.tight_layout()\n",
    "plt.savefig('/Users/luke.thompson/singlecell/plots/rsonly_counts.pdf')"
   ]
  },
  {
   "cell_type": "code",
   "execution_count": null,
   "metadata": {
    "collapsed": false
   },
   "outputs": [],
   "source": []
  },
  {
   "cell_type": "code",
   "execution_count": null,
   "metadata": {
    "collapsed": true
   },
   "outputs": [],
   "source": []
  }
 ],
 "metadata": {
  "anaconda-cloud": {},
  "kernelspec": {
   "display_name": "Python [conda env:emp-py3]",
   "language": "python",
   "name": "conda-env-emp-py3-py"
  },
  "language_info": {
   "codemirror_mode": {
    "name": "ipython",
    "version": 3
   },
   "file_extension": ".py",
   "mimetype": "text/x-python",
   "name": "python",
   "nbconvert_exporter": "python",
   "pygments_lexer": "ipython3",
   "version": "3.5.2"
  }
 },
 "nbformat": 4,
 "nbformat_minor": 1
}
