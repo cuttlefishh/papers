{
 "cells": [
  {
   "cell_type": "code",
   "execution_count": 1,
   "metadata": {
    "collapsed": true
   },
   "outputs": [],
   "source": [
    "import pandas as pd\n",
    "import seaborn as sns\n",
    "import matplotlib.pyplot as plt\n",
    "%matplotlib inline"
   ]
  },
  {
   "cell_type": "markdown",
   "metadata": {},
   "source": [
    "#### Note on input files\n",
    "\n",
    "I'm not 100% sure these are the right files to use. Check ~/singlecell/krse2013-MT/singlecell_krse2013_bowtie.ipynb and other records.\n",
    "\n",
    "I think I want the \"Gareth\" version but currently have only for Pro."
   ]
  },
  {
   "cell_type": "code",
   "execution_count": 2,
   "metadata": {
    "collapsed": true
   },
   "outputs": [],
   "source": [
    "path_pro = '/Users/luke/singlecell/krse2013-MT/fpkm_groups_all_pro.binary.Sta3Surf.Gareth.csv'\n",
    "path_sar = '/Users/luke/singlecell/krse2013-MT/fpkm_groups_all_sar.binary.Sta3Surf.csv'"
   ]
  },
  {
   "cell_type": "code",
   "execution_count": 3,
   "metadata": {
    "collapsed": true
   },
   "outputs": [],
   "source": [
    "df_pro = pd.read_csv(path_pro, index_col=0)\n",
    "df_sar = pd.read_csv(path_sar, index_col=0)"
   ]
  },
  {
   "cell_type": "code",
   "execution_count": 4,
   "metadata": {
    "collapsed": false
   },
   "outputs": [
    {
     "data": {
      "text/html": [
       "<div>\n",
       "<table border=\"1\" class=\"dataframe\">\n",
       "  <thead>\n",
       "    <tr style=\"text-align: right;\">\n",
       "      <th></th>\n",
       "      <th>4415_Sta3_T0_Surf_20</th>\n",
       "      <th>4419_Sta3_T4_Surf_71</th>\n",
       "      <th>4423_Sta3_T8_Surf_75</th>\n",
       "      <th>4427_Sta3_T12_Surf_79</th>\n",
       "      <th>4431_Sta3_T16_Surf_83</th>\n",
       "      <th>4435_Sta3_T20_Surf_87</th>\n",
       "      <th>4439_Sta3_T24_Surf_91</th>\n",
       "      <th>4443_Sta3_T28_Surf_95</th>\n",
       "      <th>4447_Sta3_T32_Surf_99</th>\n",
       "      <th>4451_Sta3_T36_Surf_103</th>\n",
       "      <th>4455_Sta3_T40_Surf_107</th>\n",
       "      <th>4459_Sta3_T44_Surf_111</th>\n",
       "      <th>4463_Sta3_T48_Surf_115</th>\n",
       "      <th>Group</th>\n",
       "    </tr>\n",
       "    <tr>\n",
       "      <th>GeneID</th>\n",
       "      <th></th>\n",
       "      <th></th>\n",
       "      <th></th>\n",
       "      <th></th>\n",
       "      <th></th>\n",
       "      <th></th>\n",
       "      <th></th>\n",
       "      <th></th>\n",
       "      <th></th>\n",
       "      <th></th>\n",
       "      <th></th>\n",
       "      <th></th>\n",
       "      <th></th>\n",
       "      <th></th>\n",
       "    </tr>\n",
       "  </thead>\n",
       "  <tbody>\n",
       "    <tr>\n",
       "      <th>pro11876</th>\n",
       "      <td>0</td>\n",
       "      <td>1</td>\n",
       "      <td>1</td>\n",
       "      <td>1</td>\n",
       "      <td>1</td>\n",
       "      <td>1</td>\n",
       "      <td>1</td>\n",
       "      <td>1</td>\n",
       "      <td>1</td>\n",
       "      <td>1</td>\n",
       "      <td>1</td>\n",
       "      <td>1</td>\n",
       "      <td>1</td>\n",
       "      <td>RedSea</td>\n",
       "    </tr>\n",
       "    <tr>\n",
       "      <th>pro11957</th>\n",
       "      <td>0</td>\n",
       "      <td>0</td>\n",
       "      <td>1</td>\n",
       "      <td>1</td>\n",
       "      <td>1</td>\n",
       "      <td>1</td>\n",
       "      <td>0</td>\n",
       "      <td>0</td>\n",
       "      <td>1</td>\n",
       "      <td>1</td>\n",
       "      <td>1</td>\n",
       "      <td>1</td>\n",
       "      <td>1</td>\n",
       "      <td>RedSea</td>\n",
       "    </tr>\n",
       "    <tr>\n",
       "      <th>pro11985</th>\n",
       "      <td>0</td>\n",
       "      <td>1</td>\n",
       "      <td>0</td>\n",
       "      <td>1</td>\n",
       "      <td>1</td>\n",
       "      <td>1</td>\n",
       "      <td>1</td>\n",
       "      <td>1</td>\n",
       "      <td>0</td>\n",
       "      <td>1</td>\n",
       "      <td>1</td>\n",
       "      <td>1</td>\n",
       "      <td>1</td>\n",
       "      <td>RedSea</td>\n",
       "    </tr>\n",
       "    <tr>\n",
       "      <th>pro11988</th>\n",
       "      <td>0</td>\n",
       "      <td>1</td>\n",
       "      <td>1</td>\n",
       "      <td>1</td>\n",
       "      <td>1</td>\n",
       "      <td>1</td>\n",
       "      <td>1</td>\n",
       "      <td>1</td>\n",
       "      <td>1</td>\n",
       "      <td>1</td>\n",
       "      <td>1</td>\n",
       "      <td>1</td>\n",
       "      <td>1</td>\n",
       "      <td>RedSea</td>\n",
       "    </tr>\n",
       "    <tr>\n",
       "      <th>pro11989</th>\n",
       "      <td>0</td>\n",
       "      <td>1</td>\n",
       "      <td>1</td>\n",
       "      <td>1</td>\n",
       "      <td>1</td>\n",
       "      <td>1</td>\n",
       "      <td>1</td>\n",
       "      <td>1</td>\n",
       "      <td>1</td>\n",
       "      <td>1</td>\n",
       "      <td>1</td>\n",
       "      <td>1</td>\n",
       "      <td>1</td>\n",
       "      <td>RedSea</td>\n",
       "    </tr>\n",
       "  </tbody>\n",
       "</table>\n",
       "</div>"
      ],
      "text/plain": [
       "          4415_Sta3_T0_Surf_20  4419_Sta3_T4_Surf_71  4423_Sta3_T8_Surf_75  \\\n",
       "GeneID                                                                       \n",
       "pro11876                     0                     1                     1   \n",
       "pro11957                     0                     0                     1   \n",
       "pro11985                     0                     1                     0   \n",
       "pro11988                     0                     1                     1   \n",
       "pro11989                     0                     1                     1   \n",
       "\n",
       "          4427_Sta3_T12_Surf_79  4431_Sta3_T16_Surf_83  4435_Sta3_T20_Surf_87  \\\n",
       "GeneID                                                                          \n",
       "pro11876                      1                      1                      1   \n",
       "pro11957                      1                      1                      1   \n",
       "pro11985                      1                      1                      1   \n",
       "pro11988                      1                      1                      1   \n",
       "pro11989                      1                      1                      1   \n",
       "\n",
       "          4439_Sta3_T24_Surf_91  4443_Sta3_T28_Surf_95  4447_Sta3_T32_Surf_99  \\\n",
       "GeneID                                                                          \n",
       "pro11876                      1                      1                      1   \n",
       "pro11957                      0                      0                      1   \n",
       "pro11985                      1                      1                      0   \n",
       "pro11988                      1                      1                      1   \n",
       "pro11989                      1                      1                      1   \n",
       "\n",
       "          4451_Sta3_T36_Surf_103  4455_Sta3_T40_Surf_107  \\\n",
       "GeneID                                                     \n",
       "pro11876                       1                       1   \n",
       "pro11957                       1                       1   \n",
       "pro11985                       1                       1   \n",
       "pro11988                       1                       1   \n",
       "pro11989                       1                       1   \n",
       "\n",
       "          4459_Sta3_T44_Surf_111  4463_Sta3_T48_Surf_115   Group  \n",
       "GeneID                                                            \n",
       "pro11876                       1                       1  RedSea  \n",
       "pro11957                       1                       1  RedSea  \n",
       "pro11985                       1                       1  RedSea  \n",
       "pro11988                       1                       1  RedSea  \n",
       "pro11989                       1                       1  RedSea  "
      ]
     },
     "execution_count": 4,
     "metadata": {},
     "output_type": "execute_result"
    }
   ],
   "source": [
    "df_pro.head()"
   ]
  },
  {
   "cell_type": "code",
   "execution_count": 5,
   "metadata": {
    "collapsed": false,
    "scrolled": true
   },
   "outputs": [
    {
     "data": {
      "text/plain": [
       "Other     8691\n",
       "RedSea     637\n",
       "Name: Group, dtype: int64"
      ]
     },
     "execution_count": 5,
     "metadata": {},
     "output_type": "execute_result"
    }
   ],
   "source": [
    "df_pro.Group.value_counts()"
   ]
  },
  {
   "cell_type": "code",
   "execution_count": 6,
   "metadata": {
    "collapsed": false,
    "scrolled": true
   },
   "outputs": [
    {
     "data": {
      "text/plain": [
       "Index(['4415_Sta3_T0_Surf_20', '4419_Sta3_T4_Surf_71', '4423_Sta3_T8_Surf_75',\n",
       "       '4427_Sta3_T12_Surf_79', '4431_Sta3_T16_Surf_83',\n",
       "       '4435_Sta3_T20_Surf_87', '4439_Sta3_T24_Surf_91',\n",
       "       '4443_Sta3_T28_Surf_95', '4447_Sta3_T32_Surf_99',\n",
       "       '4451_Sta3_T36_Surf_103', '4455_Sta3_T40_Surf_107',\n",
       "       '4459_Sta3_T44_Surf_111', '4463_Sta3_T48_Surf_115', 'Group'],\n",
       "      dtype='object')"
      ]
     },
     "execution_count": 6,
     "metadata": {},
     "output_type": "execute_result"
    }
   ],
   "source": [
    "df_pro.columns"
   ]
  },
  {
   "cell_type": "code",
   "execution_count": 7,
   "metadata": {
    "collapsed": false
   },
   "outputs": [
    {
     "data": {
      "text/plain": [
       "4415_Sta3_T0_Surf_20        53\n",
       "4419_Sta3_T4_Surf_71      1992\n",
       "4423_Sta3_T8_Surf_75      2005\n",
       "4427_Sta3_T12_Surf_79     2063\n",
       "4431_Sta3_T16_Surf_83     2028\n",
       "4435_Sta3_T20_Surf_87     2077\n",
       "4439_Sta3_T24_Surf_91     2025\n",
       "4443_Sta3_T28_Surf_95     1977\n",
       "4447_Sta3_T32_Surf_99     1884\n",
       "4451_Sta3_T36_Surf_103    2119\n",
       "4455_Sta3_T40_Surf_107    2026\n",
       "4459_Sta3_T44_Surf_111    2036\n",
       "4463_Sta3_T48_Surf_115    2043\n",
       "dtype: int64"
      ]
     },
     "execution_count": 7,
     "metadata": {},
     "output_type": "execute_result"
    }
   ],
   "source": [
    "# sum over OGs for each timepoint to find out which timepoint is low: T0!\n",
    "df_pro.ix[:,0:13].sum(axis=0)"
   ]
  },
  {
   "cell_type": "code",
   "execution_count": 8,
   "metadata": {
    "collapsed": false
   },
   "outputs": [],
   "source": [
    "df_pro.drop('4415_Sta3_T0_Surf_20', axis=1, inplace=True)"
   ]
  },
  {
   "cell_type": "code",
   "execution_count": 9,
   "metadata": {
    "collapsed": true
   },
   "outputs": [],
   "source": [
    "# sum over timepoints for each OG to get total number of timepoints observed in\n",
    "df_pro['Sum'] = df_pro.ix[:,0:13].sum(axis=1)"
   ]
  },
  {
   "cell_type": "code",
   "execution_count": 10,
   "metadata": {
    "collapsed": false,
    "scrolled": false
   },
   "outputs": [
    {
     "data": {
      "text/plain": [
       "0     7136\n",
       "12    1832\n",
       "11      83\n",
       "1       61\n",
       "10      35\n",
       "2       35\n",
       "8       27\n",
       "5       23\n",
       "7       22\n",
       "4       22\n",
       "9       19\n",
       "6       18\n",
       "3       15\n",
       "Name: Sum, dtype: int64"
      ]
     },
     "execution_count": 10,
     "metadata": {},
     "output_type": "execute_result"
    }
   ],
   "source": [
    "df_pro.Sum.value_counts()"
   ]
  },
  {
   "cell_type": "code",
   "execution_count": 11,
   "metadata": {
    "collapsed": true
   },
   "outputs": [],
   "source": [
    "df_pro_nonzero = df_pro[df_pro.Sum > 0]"
   ]
  },
  {
   "cell_type": "code",
   "execution_count": 12,
   "metadata": {
    "collapsed": false,
    "scrolled": true
   },
   "outputs": [
    {
     "data": {
      "text/plain": [
       "<matplotlib.axes._subplots.AxesSubplot at 0x10dabcef0>"
      ]
     },
     "execution_count": 12,
     "metadata": {},
     "output_type": "execute_result"
    },
    {
     "data": {
      "image/png": "[encoded data removed]",
      "text/plain": [
       "<matplotlib.figure.Figure at 0x10d727048>"
      ]
     },
     "metadata": {},
     "output_type": "display_data"
    }
   ],
   "source": [
    "sns.boxplot(x=df_pro_nonzero.Group, y=df_pro_nonzero.Sum)"
   ]
  },
  {
   "cell_type": "code",
   "execution_count": 15,
   "metadata": {
    "collapsed": false
   },
   "outputs": [
    {
     "data": {
      "text/plain": [
       "<matplotlib.text.Text at 0x10eeb04e0>"
      ]
     },
     "execution_count": 15,
     "metadata": {},
     "output_type": "execute_result"
    },
    {
     "data": {
      "image/png": "[encoded data removed]",
      "text/plain": [
       "<matplotlib.figure.Figure at 0x1120e4d30>"
      ]
     },
     "metadata": {},
     "output_type": "display_data"
    }
   ],
   "source": [
    "sns.kdeplot(data=df_pro.Sum[df_pro.Group == 'RedSea'], label='Red Sea')\n",
    "sns.kdeplot(data=df_pro.Sum[df_pro.Group == 'Other'], label='Other')\n",
    "plt.axis([-1.99, 13.99, 0, 0.4])\n",
    "plt.xlabel('Number of timepoints observed in (out of 12)')\n",
    "plt.ylabel('Proportion of gene ortholog groups')"
   ]
  },
  {
   "cell_type": "code",
   "execution_count": null,
   "metadata": {
    "collapsed": true
   },
   "outputs": [],
   "source": []
  }
 ],
 "metadata": {
  "anaconda-cloud": {},
  "kernelspec": {
   "display_name": "Python [conda env:emp-py3]",
   "language": "python",
   "name": "conda-env-emp-py3-py"
  },
  "language_info": {
   "codemirror_mode": {
    "name": "ipython",
    "version": 3
   },
   "file_extension": ".py",
   "mimetype": "text/x-python",
   "name": "python",
   "nbconvert_exporter": "python",
   "pygments_lexer": "ipython3",
   "version": "3.5.2"
  }
 },
 "nbformat": 4,
 "nbformat_minor": 1
}
