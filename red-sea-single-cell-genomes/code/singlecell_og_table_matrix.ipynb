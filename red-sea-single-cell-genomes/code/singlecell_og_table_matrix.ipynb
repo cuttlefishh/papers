{
 "cells": [
  {
   "cell_type": "code",
   "execution_count": 1,
   "metadata": {
    "collapsed": false
   },
   "outputs": [
    {
     "name": "stderr",
     "output_type": "stream",
     "text": [
      "/Users/luke/anaconda/envs/qiime190/lib/python2.7/site-packages/pandas/computation/__init__.py:19: UserWarning: The installed version of numexpr 2.4.4 is not supported in pandas and will be not be used\n",
      "\n",
      "  UserWarning)\n"
     ]
    }
   ],
   "source": [
    "import pandas as pd\n",
    "import numpy as np\n",
    "import re\n",
    "import random\n",
    "import string"
   ]
  },
  {
   "cell_type": "code",
   "execution_count": 2,
   "metadata": {
    "collapsed": true
   },
   "outputs": [],
   "source": [
    "pd.set_option('display.max_rows', 500)"
   ]
  },
  {
   "cell_type": "markdown",
   "metadata": {},
   "source": [
    "### Make summary table of OG, Count, Example, Description"
   ]
  },
  {
   "cell_type": "code",
   "execution_count": 3,
   "metadata": {
    "collapsed": true
   },
   "outputs": [],
   "source": [
    "def make_og_table_with_description(path_table, path_descr, path_export):\n",
    "    with open(path_table) as f:\n",
    "        table = f.readlines()\n",
    "    num_cols = len(table[0].split(' '))-1\n",
    "    col_names = range(num_cols)\n",
    "    # read groups table as df\n",
    "    df_table = pd.read_csv(path_table, sep=' ', index_col=0, header=None, dtype=object, names=col_names)\n",
    "    df_table.index = [re.sub(':', '', x) for x in df_table.index]\n",
    "    # read description table as df\n",
    "    df_descr = pd.read_csv(path_descr, sep='\\t', header=None)\n",
    "    df_descr.columns =['Code', 'Accession', 'Description']\n",
    "    # re-group table with one entry per gene and add descriptions\n",
    "    df_table_stack = pd.DataFrame(df_table.stack(), columns=['Accession'])\n",
    "    df_table_stack['Accession'] = [x.split('|')[2] for x in df_table_stack['Accession']]\n",
    "    df_table_stack = df_table_stack.reset_index().merge(df_descr, left_on='Accession', right_on='Accession', how='left')\n",
    "    df_table_stack['level_1'] = df_table_stack['level_1'] + 1\n",
    "\n",
    "    # write output to file\n",
    "    with open(path_export, 'a') as outfile:\n",
    "        outfile.write('Ortholog group\\tNumber of genomes\\tExample accession\\tDescription\\n')\n",
    "        for og in df_table_stack['level_0'].unique():\n",
    "            og_size = df_table_stack[df_table_stack['level_0'] == og]['level_1'].max()\n",
    "            og_example = df_table_stack[df_table_stack['level_0'] == og]['Accession'].iloc[0]\n",
    "            og_example = re.sub('Pelagi', 'Pelagibacter', og_example)\n",
    "            og_example = re.sub('Proch', 'Prochlorococcus', og_example)\n",
    "            descr_list = df_table_stack[df_table_stack['level_0'] == og]['Description'].tolist()\n",
    "            for i in range(len(descr_list) - 1):\n",
    "                if descr_list[i] == 'hypothetical protein':\n",
    "                    descr_list[i] = ''\n",
    "            descr_list = filter(None, descr_list)\n",
    "            og_descr = descr_list[0]\n",
    "            outfile.write('%s\\t%s\\t%s\\t%s\\n' % (og, og_size, og_example, og_descr))"
   ]
  },
  {
   "cell_type": "code",
   "execution_count": 4,
   "metadata": {
    "collapsed": false
   },
   "outputs": [],
   "source": [
    "# make summary table for Pelagibacter OGs\n",
    "path_descr = '/Users/luke/singlecell/clusters/orthomcl-sar4/descr_sar.tsv'\n",
    "# ... RS-only OGs\n",
    "path_table = '/Users/luke/singlecell/clusters/orthomcl-sar4/groups.RSonly_sar.txt'\n",
    "path_export = '/Users/luke/singlecell/notebooks/table_sar_RSonly.tsv'\n",
    "make_og_table_with_description(path_table, path_descr, path_export)\n",
    "# ... all OGs\n",
    "path_table = '/Users/luke/singlecell/clusters/orthomcl-sar4/groups.all_sar.txt'\n",
    "path_export = '/Users/luke/singlecell/notebooks/table_sar_all.tsv'\n",
    "make_og_table_with_description(path_table, path_descr, path_export)"
   ]
  },
  {
   "cell_type": "code",
   "execution_count": 5,
   "metadata": {
    "collapsed": true
   },
   "outputs": [],
   "source": [
    "# make summary table for Prochlorococcus OGs\n",
    "path_descr = '/Users/luke/singlecell/clusters/orthomcl-pro4/descr_pro.tsv'\n",
    "# ... RS-only OGs\n",
    "path_table = '/Users/luke/singlecell/clusters/orthomcl-pro4/groups.RSonly_pro.txt'\n",
    "path_export = '/Users/luke/singlecell/notebooks/table_pro_RSonly.tsv'\n",
    "make_og_table_with_description(path_table, path_descr, path_export)\n",
    "# ... all OGs\n",
    "path_table = '/Users/luke/singlecell/clusters/orthomcl-pro4/groups.all_pro.txt'\n",
    "path_export = '/Users/luke/singlecell/notebooks/table_pro_all.tsv'\n",
    "make_og_table_with_description(path_table, path_descr, path_export)"
   ]
  },
  {
   "cell_type": "code",
   "execution_count": null,
   "metadata": {
    "collapsed": true
   },
   "outputs": [],
   "source": []
  },
  {
   "cell_type": "markdown",
   "metadata": {},
   "source": [
    "### Make matrix of OG counts across genomes"
   ]
  },
  {
   "cell_type": "code",
   "execution_count": 3,
   "metadata": {
    "collapsed": true
   },
   "outputs": [],
   "source": [
    "def make_og_count_matrix(path_table, path_genomes, path_export):\n",
    "    # determine number of columns\n",
    "    with open(path_table) as f:\n",
    "        table = f.readlines()\n",
    "    num_cols = len(table[0].split(' '))-1\n",
    "    col_names = range(num_cols)\n",
    "    # read groups table as df\n",
    "    df_table = pd.read_csv(path_table, sep=' ', index_col=0, header=None, dtype=object, names=col_names)\n",
    "    df_table.index = [re.sub(':', '', x) for x in df_table.index]\n",
    "    df_table.replace(np.nan,'none|none|none', regex=True, inplace=True)\n",
    "    # return genome code from gnl|code|accession\n",
    "    def get_code(series_of_gnl_code_accession):\n",
    "        codes = [x.split('|')[1] for x in series_of_gnl_code_accession]\n",
    "        return codes\n",
    "    df_codes = df_table.apply(get_code)\n",
    "    # get list of genomes\n",
    "    df_genomes = pd.read_csv(path_genomes, header=None)\n",
    "    df_none = pd.DataFrame(['none'])\n",
    "    df_genomes = df_genomes.append(df_none)\n",
    "    # get values counts for each OG\n",
    "    df_counts = pd.DataFrame(index=df_genomes[0])\n",
    "    for index, series in df_codes.iterrows():\n",
    "        df_counts[index] = series.value_counts()\n",
    "    # transpose, fill na, and delete none column\n",
    "    df_matrix = df_counts.transpose()\n",
    "    df_matrix.fillna(0, inplace=True)\n",
    "    df_matrix.drop('none', axis=1, inplace=True)\n",
    "    # write to csv\n",
    "    df_matrix.to_csv(path_export)"
   ]
  },
  {
   "cell_type": "code",
   "execution_count": 4,
   "metadata": {
    "collapsed": true
   },
   "outputs": [],
   "source": [
    "# make full OG count matrix for Pelagibacter OGs\n",
    "# set values\n",
    "path_table = '/Users/luke/singlecell/clusters/orthomcl-sar4/groups.all_sar.txt'\n",
    "path_genomes = '/Users/luke/singlecell/clusters/orthomcl-sar4/genome_list_sar.txt'\n",
    "path_export = '/Users/luke/singlecell/notebooks/matrix_sar_full.csv'\n",
    "# run function\n",
    "make_og_count_matrix(path_table, path_genomes, path_export)"
   ]
  },
  {
   "cell_type": "code",
   "execution_count": 5,
   "metadata": {
    "collapsed": true
   },
   "outputs": [],
   "source": [
    "# make full OG count matrix for Prochlorococcus OGs\n",
    "# set values\n",
    "path_table = '/Users/luke/singlecell/clusters/orthomcl-pro4/groups.all_pro.txt'\n",
    "path_genomes = '/Users/luke/singlecell/clusters/orthomcl-pro4/genome_list_pro.txt'\n",
    "path_export = '/Users/luke/singlecell/notebooks/matrix_pro_full.csv'\n",
    "# run function\n",
    "make_og_count_matrix(path_table, path_genomes, path_export)"
   ]
  },
  {
   "cell_type": "markdown",
   "metadata": {},
   "source": [
    "### Make matrix of subsampled OG counts across genomes"
   ]
  },
  {
   "cell_type": "code",
   "execution_count": 6,
   "metadata": {
    "collapsed": true
   },
   "outputs": [],
   "source": [
    "def subsample_og_count_matrix(df_matrix, num_subsample):\n",
    "    # make series containing list of OGs in each genome\n",
    "    ser_list_of_ogs = pd.Series(data=np.empty((len(df_matrix.columns), 0)).tolist(), index=df_matrix.columns)\n",
    "    for og, genome_count in df_matrix.iterrows():\n",
    "        for genome, count in genome_count.iteritems():\n",
    "            ser_list_of_ogs[genome] += [og] * int(count)\n",
    "    # make series containing subsampled list of OGs in each genome\n",
    "    ser_list_of_ogs_sub = pd.Series(data=np.empty((len(df_matrix.columns), 0)).tolist(), index=df_matrix.columns)\n",
    "    for genome, list_of_ogs in ser_list_of_ogs.iteritems():\n",
    "        ser_list_of_ogs_sub[genome] = np.random.choice(np.array(ser_list_of_ogs[genome]), size=num_subsample, replace=False)\n",
    "    # make matrix containing counts of subsampled OGs in each genome\n",
    "    df_matrix_sub = pd.DataFrame(columns=df_matrix.columns, index=df_matrix.index)\n",
    "    for genome, list_of_ogs_sub in ser_list_of_ogs_sub.iteritems():\n",
    "        vc = pd.Series(list_of_ogs_sub).value_counts()\n",
    "        for og, count in vc.iteritems():\n",
    "            df_matrix_sub[genome][og] = count\n",
    "    return df_matrix_sub"
   ]
  },
  {
   "cell_type": "code",
   "execution_count": 99,
   "metadata": {
    "collapsed": true
   },
   "outputs": [],
   "source": [
    "def make_subsampled_og_count_matrices(path_matrix, num_resample, num_subsample, path_export):\n",
    "    # NB: num_resample is number of replicates, which are NOT averaged\n",
    "    # NB: num_subsample provided based on visual inspection of genome sizes\n",
    "    df_matrix = pd.read_csv(path_matrix, index_col=0)\n",
    "    # generate random string to label each replicate\n",
    "    for i in range(num_resample):\n",
    "        rand_str = ''.join(random.choice(string.ascii_lowercase + string.ascii_uppercase) for _ in range(4))\n",
    "        # for the provided minimum size genome (num_subsample)\n",
    "        # get subset of matrix containing genomes with at least that size\n",
    "        # and then subsample that\n",
    "        df_matrix_subset = df_matrix[df_matrix.columns[df_matrix.sum() >= num_subsample]]\n",
    "        # sumsample matrix\n",
    "        df_matrix_sub = subsample_og_count_matrix(df_matrix_subset, num_subsample)\n",
    "        df_matrix_sub.fillna(0, inplace=True)\n",
    "        df_matrix_sub.to_csv('%s_%s_%s.csv' % (path_export, num_subsample, rand_str))"
   ]
  },
  {
   "cell_type": "code",
   "execution_count": 101,
   "metadata": {
    "collapsed": false,
    "scrolled": false
   },
   "outputs": [],
   "source": [
    "# make replicate subsampled OG count matrices for Pelagibacter OGs\n",
    "# set values\n",
    "path_matrix = '/Users/luke/singlecell/notebooks/matrix_sar_full.csv'\n",
    "num_resample = 5\n",
    "num_subsample = 800\n",
    "path_export = '/Users/luke/singlecell/notebooks/subsampled/matrix_sar_subsample_to'\n",
    "# run function\n",
    "make_subsampled_og_count_matrices(path_matrix, num_resample, num_subsample, path_export)"
   ]
  },
  {
   "cell_type": "code",
   "execution_count": 102,
   "metadata": {
    "collapsed": false
   },
   "outputs": [],
   "source": [
    "# make replicate subsampled OG count matrices for Prochlorococcus OGs\n",
    "# set values\n",
    "path_matrix = '/Users/luke/singlecell/notebooks/matrix_pro_full.csv'\n",
    "num_resample = 5\n",
    "num_subsample = 1400\n",
    "path_export = '/Users/luke/singlecell/notebooks/subsampled/matrix_pro_subsample_to'\n",
    "# run function\n",
    "make_subsampled_og_count_matrices(path_matrix, num_resample, num_subsample, path_export)"
   ]
  },
  {
   "cell_type": "markdown",
   "metadata": {},
   "source": [
    "### List genomes with more than N genes, and OGs present in all of them"
   ]
  },
  {
   "cell_type": "markdown",
   "metadata": {},
   "source": [
    "#### Pelagibacter"
   ]
  },
  {
   "cell_type": "code",
   "execution_count": 10,
   "metadata": {
    "collapsed": true
   },
   "outputs": [],
   "source": [
    "path_matrix = '/Users/luke/singlecell/notebooks/matrix_sar_full.csv'\n",
    "df_matrix = pd.read_csv(path_matrix, index_col=0)"
   ]
  },
  {
   "cell_type": "code",
   "execution_count": 11,
   "metadata": {
    "collapsed": false,
    "scrolled": true
   },
   "outputs": [
    {
     "data": {
      "text/plain": [
       "S001     346\n",
       "SG15     349\n",
       "SA08     389\n",
       "SC10     511\n",
       "SN08     604\n",
       "SB16     604\n",
       "SN17     623\n",
       "SC09     737\n",
       "SE07     740\n",
       "S003     756\n",
       "S002     756\n",
       "SK18     779\n",
       "SE22     820\n",
       "SO19     859\n",
       "SL23     908\n",
       "SM22     917\n",
       "SJ21     948\n",
       "S004     973\n",
       "SF16    1008\n",
       "S005    1020\n",
       "SP11    1026\n",
       "SI19    1068\n",
       "SO20    1072\n",
       "SM18    1073\n",
       "SD22    1076\n",
       "S006    1165\n",
       "SA20    1202\n",
       "S008    1323\n",
       "S017    1337\n",
       "S015    1344\n",
       "S016    1349\n",
       "S018    1349\n",
       "S024    1353\n",
       "S014    1375\n",
       "S010    1387\n",
       "S023    1404\n",
       "S025    1420\n",
       "S020    1428\n",
       "S013    1430\n",
       "S012    1453\n",
       "S022    1460\n",
       "S007    1463\n",
       "S021    1497\n",
       "S011    1505\n",
       "S009    1514\n",
       "S019    1541\n",
       "S026    1821\n",
       "dtype: float64"
      ]
     },
     "execution_count": 11,
     "metadata": {},
     "output_type": "execute_result"
    }
   ],
   "source": [
    "# SAGs only sorted\n",
    "df_matrix.iloc[:,26:].sum().sort_values()\n",
    "# all sorted\n",
    "df_matrix.sum().sort_values()"
   ]
  },
  {
   "cell_type": "code",
   "execution_count": 12,
   "metadata": {
    "collapsed": false
   },
   "outputs": [],
   "source": [
    "# genomes with more than N genes\n",
    "N = 800\n",
    "df_matrix_gtN = df_matrix[df_matrix.columns[(df_matrix.sum() > N).values]]\n",
    "with open('/Users/luke/singlecell/clusters/orthomcl-sar4/genomes_gt_%s_genes.grep' % N, 'w') as target:\n",
    "    target.write(r'\\|'.join(df_matrix_gtN.columns.tolist()))\n",
    "with open('/Users/luke/singlecell/clusters/orthomcl-sar4/genomes_gt_%s_genes.list' % N, 'w') as target:\n",
    "    target.write('\\n'.join(df_matrix_gtN.columns.tolist()))\n",
    "    target.write('\\n')\n",
    "    \n",
    "# OGs found in all genomes with more than N genes\n",
    "og_list = []\n",
    "for index, row in df_matrix_gtN.iterrows():\n",
    "    if not (df_matrix_gtN.loc[index] == 0).any():\n",
    "        og_list.append(index)\n",
    "with open('/Users/luke/singlecell/clusters/orthomcl-sar4/ogs_in_all_genomes_gt_%s_genes.grep' % N, 'w') as target:\n",
    "    target.write(r'\\|'.join(og_list))\n",
    "with open('/Users/luke/singlecell/clusters/orthomcl-sar4/ogs_in_all_genomes_gt_%s_genes.list' % N, 'w') as target:\n",
    "    target.write('\\n'.join(og_list))\n",
    "    target.write('\\n')"
   ]
  },
  {
   "cell_type": "markdown",
   "metadata": {},
   "source": [
    "#### Prochlorococcus"
   ]
  },
  {
   "cell_type": "code",
   "execution_count": 6,
   "metadata": {
    "collapsed": true
   },
   "outputs": [],
   "source": [
    "path_matrix = '/Users/luke/singlecell/notebooks/matrix_pro_full.csv'\n",
    "df_matrix = pd.read_csv(path_matrix, index_col=0)"
   ]
  },
  {
   "cell_type": "code",
   "execution_count": 7,
   "metadata": {
    "collapsed": false,
    "scrolled": true
   },
   "outputs": [
    {
     "data": {
      "text/plain": [
       "P011     113\n",
       "P047     395\n",
       "P002     433\n",
       "P010     467\n",
       "P096     476\n",
       "P021     525\n",
       "P006     542\n",
       "P009     564\n",
       "P058     598\n",
       "P102     631\n",
       "P024     655\n",
       "P084     762\n",
       "P061     765\n",
       "P007     770\n",
       "P008     812\n",
       "P005     908\n",
       "P103     930\n",
       "P003     943\n",
       "P069     948\n",
       "P104     979\n",
       "P051     983\n",
       "P004    1022\n",
       "P018    1026\n",
       "P043    1027\n",
       "P072    1032\n",
       "P099    1079\n",
       "P070    1090\n",
       "P053    1102\n",
       "P092    1116\n",
       "P028    1118\n",
       "P059    1138\n",
       "P067    1179\n",
       "P023    1203\n",
       "P017    1228\n",
       "P055    1233\n",
       "P093    1253\n",
       "P020    1261\n",
       "P027    1269\n",
       "P038    1278\n",
       "P026    1281\n",
       "P036    1287\n",
       "P032    1294\n",
       "P101    1304\n",
       "P083    1305\n",
       "P052    1335\n",
       "P025    1336\n",
       "P097    1337\n",
       "P086    1370\n",
       "P064    1382\n",
       "P089    1390\n",
       "P045    1394\n",
       "P090    1396\n",
       "P078    1407\n",
       "PI15    1416\n",
       "P077    1445\n",
       "P001    1462\n",
       "P022    1465\n",
       "P019    1473\n",
       "P044    1485\n",
       "P094    1487\n",
       "P087    1494\n",
       "P066    1521\n",
       "P079    1521\n",
       "P056    1524\n",
       "P080    1525\n",
       "P076    1534\n",
       "P037    1544\n",
       "PI06    1564\n",
       "P081    1567\n",
       "P060    1570\n",
       "P085    1570\n",
       "PF05    1590\n",
       "P088    1597\n",
       "P071    1606\n",
       "P046    1607\n",
       "P091    1616\n",
       "P050    1616\n",
       "P054    1619\n",
       "P095    1620\n",
       "P057    1623\n",
       "P074    1628\n",
       "P039    1644\n",
       "P040    1652\n",
       "P034    1656\n",
       "PJ16    1658\n",
       "P073    1665\n",
       "P030    1665\n",
       "PM23    1666\n",
       "P029    1670\n",
       "P100    1673\n",
       "P062    1675\n",
       "P082    1676\n",
       "P031    1689\n",
       "P063    1690\n",
       "P065    1720\n",
       "P041    1734\n",
       "P035    1737\n",
       "P016    1758\n",
       "P049    1769\n",
       "P098    1775\n",
       "P033    1798\n",
       "P042    1818\n",
       "P014    1832\n",
       "P068    1849\n",
       "P048    1849\n",
       "P119    1852\n",
       "P106    1864\n",
       "P121    1872\n",
       "P012    1889\n",
       "P135    1892\n",
       "P075    1893\n",
       "P131    1898\n",
       "P139    1900\n",
       "P129    1902\n",
       "P136    1902\n",
       "P128    1904\n",
       "P138    1905\n",
       "P105    1906\n",
       "P140    1909\n",
       "P137    1910\n",
       "P107    1912\n",
       "P108    1913\n",
       "P124    1913\n",
       "P013    1913\n",
       "P130    1916\n",
       "P125    1919\n",
       "P115    1921\n",
       "P114    1931\n",
       "P116    1937\n",
       "P127    1938\n",
       "P117    1957\n",
       "P118    1958\n",
       "P122    1969\n",
       "P120    1982\n",
       "P015    1989\n",
       "P109    2065\n",
       "P133    2108\n",
       "P132    2149\n",
       "P134    2162\n",
       "P113    2190\n",
       "P126    2551\n",
       "P112    2643\n",
       "P111    2659\n",
       "P110    2666\n",
       "P123    2731\n",
       "dtype: float64"
      ]
     },
     "execution_count": 7,
     "metadata": {},
     "output_type": "execute_result"
    }
   ],
   "source": [
    "# all sorted\n",
    "df_matrix.sum().sort_values()"
   ]
  },
  {
   "cell_type": "code",
   "execution_count": 8,
   "metadata": {
    "collapsed": true
   },
   "outputs": [],
   "source": [
    "# genomes with more than N genes\n",
    "N = 1400\n",
    "df_matrix_gtN = df_matrix[df_matrix.columns[(df_matrix.sum() > N).values]]\n",
    "with open('/Users/luke/singlecell/clusters/orthomcl-pro4/genomes_gt_%s_genes.grep' % N, 'w') as target:\n",
    "    target.write(r'\\|'.join(df_matrix_gtN.columns.tolist()))\n",
    "with open('/Users/luke/singlecell/clusters/orthomcl-pro4/genomes_gt_%s_genes.list' % N, 'w') as target:\n",
    "    target.write('\\n'.join(df_matrix_gtN.columns.tolist()))\n",
    "    target.write('\\n')\n",
    "\n",
    "# OGs found in all genomes with more than N genes\n",
    "og_list = []\n",
    "for index, row in df_matrix_gtN.iterrows():\n",
    "    if not (df_matrix_gtN.loc[index] == 0).any():\n",
    "        og_list.append(index)\n",
    "with open('/Users/luke/singlecell/clusters/orthomcl-pro4/ogs_in_all_genomes_gt_%s_genes.grep' % N, 'w') as target:\n",
    "    target.write(r'\\|'.join(og_list))\n",
    "with open('/Users/luke/singlecell/clusters/orthomcl-pro4/ogs_in_all_genomes_gt_%s_genes.list' % N, 'w') as target:\n",
    "    target.write('\\n'.join(og_list))\n",
    "    target.write('\\n')"
   ]
  },
  {
   "cell_type": "markdown",
   "metadata": {},
   "source": [
    "### Skip: Average subsampled OG count matrices"
   ]
  },
  {
   "cell_type": "code",
   "execution_count": null,
   "metadata": {
    "collapsed": false,
    "scrolled": false
   },
   "outputs": [],
   "source": [
    "def average_subsampled_og_count_matrices(path_matrix, num_subsample, num_resample, path_export):\n",
    "    # initialize sum matrix\n",
    "    df_matrix = pd.read_csv(path_matrix, index_col=0)\n",
    "    df_matrix_sub_sum = pd.DataFrame(columns=df_matrix.columns, index=df_matrix.index)\n",
    "    df_matrix_sub_sum.fillna(0, inplace=True)\n",
    "    # sum subsampled matrix n times\n",
    "    for i in range(num_resample):\n",
    "        df_matrix_sub = subsample_og_count_matrix(path_matrix, num_subsample)\n",
    "        df_matrix_sub.fillna(0, inplace=True)\n",
    "        df_matrix_sub_sum = df_matrix_sub_sum.add(df_matrix_sub)\n",
    "    # divide by n\n",
    "    df_matrix_sub_sum = df_matrix_sub_sum/num_resample\n",
    "    # write to csv\n",
    "    df_matrix_sub_sum.to_csv(path_export)"
   ]
  },
  {
   "cell_type": "code",
   "execution_count": null,
   "metadata": {
    "collapsed": false
   },
   "outputs": [],
   "source": [
    "# make average subsampled OG count matrix for Pelagibacter OGs\n",
    "# path_matrix = '/Users/luke/singlecell/notebooks/matrix_sar_full.csv'\n",
    "# num_subsample = 200\n",
    "# num_resample = 1000\n",
    "# path_export = '/Users/luke/singlecell/notebooks/matrix_sar_subsample%s_resample%s.csv' % (num_subsample, num_resample)\n",
    "# average_subsampled_og_count_matrices(path_matrix, num_subsample, num_resample, path_export)"
   ]
  }
 ],
 "metadata": {
  "kernelspec": {
   "display_name": "Python 2",
   "language": "python",
   "name": "python2"
  },
  "language_info": {
   "codemirror_mode": {
    "name": "ipython",
    "version": 2
   },
   "file_extension": ".py",
   "mimetype": "text/x-python",
   "name": "python",
   "nbconvert_exporter": "python",
   "pygments_lexer": "ipython2",
   "version": "2.7.11"
  }
 },
 "nbformat": 4,
 "nbformat_minor": 0
}
