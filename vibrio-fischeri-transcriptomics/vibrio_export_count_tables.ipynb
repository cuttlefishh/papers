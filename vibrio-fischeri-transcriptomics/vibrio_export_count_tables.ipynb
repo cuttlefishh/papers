{
 "cells": [
  {
   "cell_type": "markdown",
   "metadata": {},
   "source": [
    "## Exporting gene count tables for GEO\n",
    "\n",
    "Format of processed files for my MED4/P-HM2 data:\n",
    "    \n",
    "Tabular format of processed .txt files contains the following fields: 1. Sequential gene number, 2. GenBank identifier, 3. Strand, 4. Start position, 5. End position, 6. Description, 7. Total counts, 8. Sense counts, 9. Antisense counts\n",
    "    "
   ]
  },
  {
   "cell_type": "markdown",
   "metadata": {},
   "source": [
    "### Function imports"
   ]
  },
  {
   "cell_type": "code",
   "execution_count": 45,
   "metadata": {
    "collapsed": false
   },
   "outputs": [],
   "source": [
    "import pandas as pd"
   ]
  },
  {
   "cell_type": "markdown",
   "metadata": {},
   "source": [
    "### DataFrame of merged counts for Ribodepletion"
   ]
  },
  {
   "cell_type": "code",
   "execution_count": 46,
   "metadata": {
    "collapsed": true
   },
   "outputs": [],
   "source": [
    "treatments = [\n",
    "    '1000ng_NoRibo',\n",
    "    '500ng_NoRibo',\n",
    "    '100ng_NoRibo',\n",
    "    '1000ng_Ribodpl',\n",
    "    '500ng_Ribodpl',\n",
    "    '100ng_Ribodpl',\n",
    "    '50ng_Ribodpl',\n",
    "    '25ng_Ribodpl',\n",
    "    '10ng_Ribodpl',\n",
    "    '5ng_Ribodpl_17cyc',\n",
    "    '5ng_Ribodpl_15cyc',\n",
    "    '2ng_Ribodpl_17cyc',\n",
    "    '2ng_Ribodpl_15cyc',\n",
    "    '1ng_Ribodpl_17cyc',\n",
    "    '1ng_Ribodpl_15cyc'\n",
    "]"
   ]
  },
  {
   "cell_type": "code",
   "execution_count": 47,
   "metadata": {
    "collapsed": false
   },
   "outputs": [],
   "source": [
    "# low-biomass CDS counts\n",
    "df_merged = pd.DataFrame()\n",
    "for treatment in treatments:\n",
    "    path = '/Users/luke/vibrio/bioconductor/swt_%s_R1_trim_CDS.tsv' % treatment\n",
    "    df_single = pd.read_csv(path, sep='\\t', header=None, index_col=0)\n",
    "    df_single.columns = [treatment]\n",
    "    df_merged = pd.concat([df_merged, df_single], axis=1)\n",
    "df_merged = df_merged.drop(df_merged.index[-5:])\n",
    "df_merged['CDS_number'] = df_merged.index"
   ]
  },
  {
   "cell_type": "code",
   "execution_count": 48,
   "metadata": {
    "collapsed": true
   },
   "outputs": [],
   "source": [
    "# low-biomass rRNA counts -- don't drop last 5 rows, do write to CSV without adding VF numbers\n",
    "df_merged_rrna = pd.DataFrame()\n",
    "for treatment in treatments:\n",
    "    path = '/Users/luke/vibrio/bioconductor/swt_%s_R1_trim_rRNA.tsv' % treatment\n",
    "    df_single = pd.read_csv(path, sep='\\t', header=None, index_col=0)\n",
    "    df_single.columns = [treatment]\n",
    "    df_merged_rrna = pd.concat([df_merged_rrna, df_single], axis=1)\n",
    "df_merged_rrna.to_csv('/Users/luke/vibrio/published/geo_table_LowBiomass_rRNA.csv', index_label='rRNA_number')"
   ]
  },
  {
   "cell_type": "markdown",
   "metadata": {},
   "source": [
    "### DataFrame of merged counts for PlkSwtVnt"
   ]
  },
  {
   "cell_type": "code",
   "execution_count": 49,
   "metadata": {
    "collapsed": true
   },
   "outputs": [],
   "source": [
    "treatments2 = [\n",
    "    'plk_1_hiseq',\n",
    "    'plk_2_hiseq',\n",
    "    'plk_3_hiseq',\n",
    "    'swt_1_hiseq',\n",
    "    'swt_2_hiseq',\n",
    "    'swt_3_hiseq',\n",
    "    'vnt_1_hiseq',\n",
    "    'vnt_2_hiseq',\n",
    "    'vnt_3_hiseq'\n",
    "]"
   ]
  },
  {
   "cell_type": "code",
   "execution_count": 50,
   "metadata": {
    "collapsed": false
   },
   "outputs": [],
   "source": [
    "# PlkSwtVnt CDS counts\n",
    "df_merged2 = pd.DataFrame()\n",
    "for treatment in treatments2:\n",
    "    path = '/Users/luke/vibrio/bioconductor/%s_R1_trim_CDS.tsv' % treatment\n",
    "    df_single = pd.read_csv(path, sep='\\t', header=None, index_col=0)\n",
    "    df_single.columns = [treatment]\n",
    "    df_merged2 = pd.concat([df_merged2, df_single], axis=1)\n",
    "df_merged2= df_merged2.drop(df_merged2.index[-5:])\n",
    "df_merged2['CDS_number'] = df_merged2.index\n",
    "df_merged2.columns = ['Plk1', 'Plk2', 'Plk3', 'Swt1', 'Swt2', 'Swt3', 'Vnt1', 'Vnt2', 'Vnt3', 'CDS_number']"
   ]
  },
  {
   "cell_type": "code",
   "execution_count": 51,
   "metadata": {
    "collapsed": false
   },
   "outputs": [],
   "source": [
    "# PlkSwtVnt rRNA counts -- don't drop last 5 rows, do write to CSV without adding VF numbers\n",
    "df_merged2_rrna = pd.DataFrame()\n",
    "for treatment in treatments2:\n",
    "    path = '/Users/luke/vibrio/bioconductor/%s_R1_trim_rRNA.tsv' % treatment\n",
    "    df_single = pd.read_csv(path, sep='\\t', header=None, index_col=0)\n",
    "    df_single.columns = [treatment]\n",
    "    df_merged2_rrna = pd.concat([df_merged2_rrna, df_single], axis=1)\n",
    "df_merged2_rrna.columns = ['Plk1', 'Plk2', 'Plk3', 'Swt1', 'Swt2', 'Swt3', 'Vnt1', 'Vnt2', 'Vnt3']\n",
    "df_merged2_rrna.to_csv('/Users/luke/vibrio/published/geo_table_PlkSwtVnt_rRNA.csv', index_label='rRNA_number')"
   ]
  },
  {
   "cell_type": "markdown",
   "metadata": {},
   "source": [
    "### DataFrame with CDS, VF, length, description"
   ]
  },
  {
   "cell_type": "code",
   "execution_count": 52,
   "metadata": {
    "collapsed": true
   },
   "outputs": [],
   "source": [
    "# Import GFF file\n",
    "path_gff = '/Users/luke/vibrio/genome/VfES114_fixed.CDS.tsv'\n",
    "df_gff = pd.read_csv(path_gff, sep='\\t', header=None)\n",
    "df_gff.columns = ['CDS_number', 'Length_bp', 'Description']"
   ]
  },
  {
   "cell_type": "code",
   "execution_count": 53,
   "metadata": {
    "collapsed": true
   },
   "outputs": [],
   "source": [
    "# Import file with CDS-to-VF\n",
    "path_plk_vnt = '/Users/luke/vibrio/results/mydeseq2.all.Plk.Vnt.tsv'\n",
    "deseq_plk_vnt = pd.read_csv(path_plk_vnt, sep='\\t')\n",
    "df_vf = deseq_plk_vnt[['VF_number', 'CDS_number']]"
   ]
  },
  {
   "cell_type": "code",
   "execution_count": 54,
   "metadata": {
    "collapsed": false,
    "scrolled": true
   },
   "outputs": [],
   "source": [
    "# Merge GFF with VF_number\n",
    "df_gff_vf = pd.merge(df_gff, df_vf, how='outer')\n",
    "df_gff_vf = df_gff_vf[['CDS_number', 'VF_number', 'Length_bp', 'Description']]"
   ]
  },
  {
   "cell_type": "markdown",
   "metadata": {},
   "source": [
    "### Final merged dataframe of counts and info for Ribodepletion and PlkSwtVnt"
   ]
  },
  {
   "cell_type": "code",
   "execution_count": 55,
   "metadata": {
    "collapsed": false
   },
   "outputs": [],
   "source": [
    "df_LowBiomass = pd.merge(df_gff_vf, df_merged, how='outer')\n",
    "df_LowBiomass.to_csv('/Users/luke/vibrio/published/geo_table_LowBiomass_CDS.csv', index=None)"
   ]
  },
  {
   "cell_type": "code",
   "execution_count": 56,
   "metadata": {
    "collapsed": false
   },
   "outputs": [],
   "source": [
    "df_PlkSwtVnt = pd.merge(df_gff_vf, df_merged2, how='outer')\n",
    "df_PlkSwtVnt.to_csv('/Users/luke/vibrio/published/geo_table_PlkSwtVnt_CDS.csv', index=None)"
   ]
  },
  {
   "cell_type": "code",
   "execution_count": null,
   "metadata": {
    "collapsed": true
   },
   "outputs": [],
   "source": []
  }
 ],
 "metadata": {
  "kernelspec": {
   "display_name": "Python 2",
   "language": "python",
   "name": "python2"
  },
  "language_info": {
   "codemirror_mode": {
    "name": "ipython",
    "version": 2
   },
   "file_extension": ".py",
   "mimetype": "text/x-python",
   "name": "python",
   "nbconvert_exporter": "python",
   "pygments_lexer": "ipython2",
   "version": "2.7.11"
  }
 },
 "nbformat": 4,
 "nbformat_minor": 0
}
