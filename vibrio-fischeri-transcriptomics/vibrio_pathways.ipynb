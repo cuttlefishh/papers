{
 "cells": [
  {
   "cell_type": "markdown",
   "metadata": {},
   "source": [
    "### Function imports"
   ]
  },
  {
   "cell_type": "code",
   "execution_count": 12,
   "metadata": {
    "collapsed": false
   },
   "outputs": [],
   "source": [
    "%matplotlib inline\n",
    "import pandas as pd\n",
    "import numpy as np\n",
    "import matplotlib.pyplot as plt\n",
    "from matplotlib import rcParams\n",
    "import seaborn as sns\n",
    "from sys import argv"
   ]
  },
  {
   "cell_type": "markdown",
   "metadata": {},
   "source": [
    "### Pathways and genes of interest from Kiel and Shu"
   ]
  },
  {
   "cell_type": "code",
   "execution_count": 13,
   "metadata": {
    "collapsed": false
   },
   "outputs": [],
   "source": [
    "gene_dict = {\n",
    "    'Phosphate': ['VF_A1087', 'VF_A1090', 'VF_1611', 'VF_A1057', 'VF_1610', 'VF_1613', 'VF_1612', 'VF_A1089'],\n",
    "    'Flagellar': ['VF_1851', 'VF_2079', 'VF_1842', 'VF_2317', 'VF_1843', 'VF_1863', 'VF_1841'],\n",
    "    'LipidPerox': ['VF_1081', 'VF_1082', 'VF_1083', 'VF_A1049', 'VF_A1050'],\n",
    "    'LuxOperon': ['VF_A0918', 'VF_A0919', 'VF_A0920', 'VF_A0924', 'VF_A0921', 'VF_A0922', 'VF_A0923', 'VF_A0924'],\n",
    "    'LuxIregulated': ['VF_A0985', 'VF_1161', 'VF_1162', 'VF_1725', 'VF_A0090', 'VF_A0622', 'VF_A1058'],\n",
    "    'GGDEFdomain': ['VF_A0879', 'VF_A0343', 'VF_A0342', 'VF_A0476'],\n",
    "\n",
    "#     'TMAOreductase': ['VF_A0188', 'VF_A0189'],\n",
    "#     'FatCatabolism': ['VF_0533'],\n",
    "#     'AminoAcid': ['VF_1585', 'VF_1586', 'VF_A0840'],\n",
    "#     'PTSsugars': ['VF_A0747', 'VF_A1189', 'VF_A0941', 'VF_A0942'],\n",
    "#     'NonPTSsugars': ['VF_A0799']\n",
    "    }"
   ]
  },
  {
   "cell_type": "markdown",
   "metadata": {},
   "source": [
    "### Import data"
   ]
  },
  {
   "cell_type": "code",
   "execution_count": 14,
   "metadata": {
    "collapsed": true
   },
   "outputs": [],
   "source": [
    "path = 'results_plk_swt_vnt.csv' # argv[8]"
   ]
  },
  {
   "cell_type": "code",
   "execution_count": 15,
   "metadata": {
    "collapsed": true
   },
   "outputs": [],
   "source": [
    "df = pd.read_csv(path, index_col=0)"
   ]
  },
  {
   "cell_type": "markdown",
   "metadata": {},
   "source": [
    "### Print KO and \"blue\" (up in plk rel to vnt) or \"green\" (down in plk rel to vnt) to copy to http://www.genome.jp/kegg/tool/map_pathway2.html (search against ko or vfi)"
   ]
  },
  {
   "cell_type": "code",
   "execution_count": 16,
   "metadata": {
    "collapsed": false
   },
   "outputs": [],
   "source": [
    "with open(\"ko_plk_vnt_kiel.txt\", \"w\") as text_file:\n",
    "    for pathway in gene_dict.keys():\n",
    "        for gene in gene_dict[pathway]:\n",
    "            if df['Plk-vs-Vnt_log2fc'][gene] > 0:\n",
    "                text_file.write('%s #2c6fbb\\n' % df['KO_number'][gene]) # medium blue\n",
    "            else:\n",
    "                text_file.write('%s #39ad48\\n' % df['KO_number'][gene]) # medium green"
   ]
  },
  {
   "cell_type": "code",
   "execution_count": 17,
   "metadata": {
    "collapsed": false
   },
   "outputs": [],
   "source": [
    "with open(\"ko_plk_vnt_padj001.txt\", \"w\") as text_file:\n",
    "    for row in df.iterrows():\n",
    "        gene = row[0]\n",
    "        if df['Plk-vs-Swt_padj'][gene] < 0.001:\n",
    "            if df['Plk-vs-Vnt_log2fc'][gene] > 0:\n",
    "                text_file.write('%s #2c6fbb\\n' % df['KO_number'][gene]) # medium blue\n",
    "            else:\n",
    "                text_file.write('%s #39ad48\\n' % df['KO_number'][gene]) # medium green"
   ]
  },
  {
   "cell_type": "code",
   "execution_count": 18,
   "metadata": {
    "collapsed": true
   },
   "outputs": [],
   "source": [
    "with open(\"ko_plk_vnt_padj001_log2fc3.txt\", \"w\") as text_file:\n",
    "    for row in df.iterrows():\n",
    "        gene = row[0]\n",
    "        if (df['Plk-vs-Swt_padj'][gene] < 0.001) & (df['Plk-vs-Swt_log2fc'][gene] > 3):\n",
    "            if df['Plk-vs-Vnt_log2fc'][gene] > 0:\n",
    "                text_file.write('%s #2c6fbb\\n' % df['KO_number'][gene]) # medium blue\n",
    "            else:\n",
    "                text_file.write('%s #39ad48\\n' % df['KO_number'][gene]) # medium green"
   ]
  },
  {
   "cell_type": "code",
   "execution_count": null,
   "metadata": {
    "collapsed": true
   },
   "outputs": [],
   "source": []
  }
 ],
 "metadata": {
  "kernelspec": {
   "display_name": "Python 2",
   "language": "python",
   "name": "python2"
  },
  "language_info": {
   "codemirror_mode": {
    "name": "ipython",
    "version": 2
   },
   "file_extension": ".py",
   "mimetype": "text/x-python",
   "name": "python",
   "nbconvert_exporter": "python",
   "pygments_lexer": "ipython2",
   "version": "2.7.11"
  }
 },
 "nbformat": 4,
 "nbformat_minor": 0
}
