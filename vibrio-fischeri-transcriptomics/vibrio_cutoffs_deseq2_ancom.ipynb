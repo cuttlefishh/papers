{
 "cells": [
  {
   "cell_type": "markdown",
   "metadata": {},
   "source": [
    "### Package imports"
   ]
  },
  {
   "cell_type": "code",
   "execution_count": 47,
   "metadata": {
    "collapsed": false
   },
   "outputs": [],
   "source": [
    "%matplotlib inline\n",
    "import pandas as pd\n",
    "import numpy as np\n",
    "import matplotlib.pyplot as plt\n",
    "from matplotlib_venn import venn3, venn3_circles\n",
    "from matplotlib import rcParams\n",
    "import seaborn as sns"
   ]
  },
  {
   "cell_type": "code",
   "execution_count": 48,
   "metadata": {
    "collapsed": true
   },
   "outputs": [],
   "source": [
    "path = 'results_plk_swt_vnt.csv'"
   ]
  },
  {
   "cell_type": "code",
   "execution_count": 49,
   "metadata": {
    "collapsed": true
   },
   "outputs": [],
   "source": [
    "df = pd.read_csv(path, index_col=0)"
   ]
  },
  {
   "cell_type": "code",
   "execution_count": 50,
   "metadata": {
    "collapsed": false
   },
   "outputs": [
    {
     "name": "stderr",
     "output_type": "stream",
     "text": [
      "/Users/luke/anaconda/envs/qiime190/lib/python2.7/site-packages/ipykernel/__main__.py:2: SettingWithCopyWarning: \n",
      "A value is trying to be set on a copy of a slice from a DataFrame.\n",
      "Try using .loc[row_indexer,col_indexer] = value instead\n",
      "\n",
      "See the caveats in the documentation: http://pandas.pydata.org/pandas-docs/stable/indexing.html#indexing-view-versus-copy\n",
      "  from ipykernel import kernelapp as app\n",
      "/Users/luke/anaconda/envs/qiime190/lib/python2.7/site-packages/ipykernel/__main__.py:3: SettingWithCopyWarning: \n",
      "A value is trying to be set on a copy of a slice from a DataFrame.\n",
      "Try using .loc[row_indexer,col_indexer] = value instead\n",
      "\n",
      "See the caveats in the documentation: http://pandas.pydata.org/pandas-docs/stable/indexing.html#indexing-view-versus-copy\n",
      "  app.launch_new_instance()\n",
      "/Users/luke/anaconda/envs/qiime190/lib/python2.7/site-packages/ipykernel/__main__.py:4: SettingWithCopyWarning: \n",
      "A value is trying to be set on a copy of a slice from a DataFrame.\n",
      "Try using .loc[row_indexer,col_indexer] = value instead\n",
      "\n",
      "See the caveats in the documentation: http://pandas.pydata.org/pandas-docs/stable/indexing.html#indexing-view-versus-copy\n",
      "/Users/luke/anaconda/envs/qiime190/lib/python2.7/site-packages/ipykernel/__main__.py:5: SettingWithCopyWarning: \n",
      "A value is trying to be set on a copy of a slice from a DataFrame.\n",
      "Try using .loc[row_indexer,col_indexer] = value instead\n",
      "\n",
      "See the caveats in the documentation: http://pandas.pydata.org/pandas-docs/stable/indexing.html#indexing-view-versus-copy\n"
     ]
    }
   ],
   "source": [
    "df_deseq = df[['Plk-vs-Swt_log2fc', 'Plk-vs-Vnt_log2fc', 'Swt-vs-Vnt_log2fc', 'Plk-vs-Swt_padj', 'Plk-vs-Vnt_padj', 'Swt-vs-Vnt_padj']]\n",
    "df_deseq['padj_05'] = (df['Plk-vs-Swt_padj'] < 0.05) | (df['Plk-vs-Vnt_padj'] < 0.05) | (df['Swt-vs-Vnt_padj'] < 0.05)\n",
    "df_deseq['padj_01'] = (df['Plk-vs-Swt_padj'] < 0.01) | (df['Plk-vs-Vnt_padj'] < 0.01) | (df['Swt-vs-Vnt_padj'] < 0.01)\n",
    "df_deseq['padj_001'] = (df['Plk-vs-Swt_padj'] < 0.001) | (df['Plk-vs-Vnt_padj'] < 0.001) | (df['Swt-vs-Vnt_padj'] < 0.001)\n",
    "df_deseq['log2fc_3'] = (df['Plk-vs-Swt_log2fc'] > 3) | (df['Plk-vs-Vnt_log2fc'] > 3) | (df['Swt-vs-Vnt_log2fc'] > 3)"
   ]
  },
  {
   "cell_type": "code",
   "execution_count": 51,
   "metadata": {
    "collapsed": true
   },
   "outputs": [],
   "source": [
    "df_ancom = pd.read_csv('ancom_results.csv', index_col=0)"
   ]
  },
  {
   "cell_type": "code",
   "execution_count": 52,
   "metadata": {
    "collapsed": false
   },
   "outputs": [],
   "source": [
    "df_merged = pd.concat([df_deseq, df_ancom], axis=1)"
   ]
  },
  {
   "cell_type": "code",
   "execution_count": 53,
   "metadata": {
    "collapsed": true
   },
   "outputs": [],
   "source": [
    "w = set(list(df_merged[df_merged['reject'].values].index)) # ancom reject\n",
    "x = set(list(df_merged[df_merged['padj_05'].values].index)) # deseq any padj < 0.05\n",
    "y = set(list(df_merged[df_merged['padj_01'].values].index)) # deseq any padj < 0.01\n",
    "z = set(list(df_merged[df_merged['padj_001'].values].index)) # deseq any padj < 0.001\n",
    "f = set(list(df_merged[df_merged['log2fc_3'].values].index)) # any log2fc > 3"
   ]
  },
  {
   "cell_type": "code",
   "execution_count": 54,
   "metadata": {
    "collapsed": false
   },
   "outputs": [
    {
     "name": "stdout",
     "output_type": "stream",
     "text": [
      "358 2323 1804 1324 358\n"
     ]
    }
   ],
   "source": [
    "print len(w), len(x), len(y), len(z), len(f)"
   ]
  },
  {
   "cell_type": "code",
   "execution_count": 63,
   "metadata": {
    "collapsed": false,
    "scrolled": true
   },
   "outputs": [
    {
     "data": {
      "image/png": "[encoded data removed]",
      "text/plain": [
       "<matplotlib.figure.Figure at 0x10dd4a410>"
      ]
     },
     "metadata": {},
     "output_type": "display_data"
    }
   ],
   "source": [
    "fig = plt.figure()\n",
    "venn3([w, z, f], set_labels = ('ANCOM\\nreject null (%s)' % len(w), 'DESeq2 any pairwise\\npadj < 0.001 (%s)' % len(z), 'Any pairwise\\nlog2fc > 3 (%s)' % len(f)))\n",
    "fig.savefig('cutoff_venn.pdf')"
   ]
  },
  {
   "cell_type": "code",
   "execution_count": null,
   "metadata": {
    "collapsed": true
   },
   "outputs": [],
   "source": []
  }
 ],
 "metadata": {
  "kernelspec": {
   "display_name": "Python 2",
   "language": "python",
   "name": "python2"
  },
  "language_info": {
   "codemirror_mode": {
    "name": "ipython",
    "version": 2
   },
   "file_extension": ".py",
   "mimetype": "text/x-python",
   "name": "python",
   "nbconvert_exporter": "python",
   "pygments_lexer": "ipython2",
   "version": "2.7.11"
  }
 },
 "nbformat": 4,
 "nbformat_minor": 0
}
