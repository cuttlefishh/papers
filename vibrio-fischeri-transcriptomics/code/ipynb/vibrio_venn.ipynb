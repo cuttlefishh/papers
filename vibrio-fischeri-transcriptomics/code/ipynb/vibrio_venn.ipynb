{
 "cells": [
  {
   "cell_type": "code",
   "execution_count": 1,
   "metadata": {
    "collapsed": false
   },
   "outputs": [],
   "source": [
    "%matplotlib inline\n",
    "import matplotlib.pyplot as plt\n",
    "import numpy as np\n",
    "import scipy\n",
    "from matplotlib_venn import venn3, venn3_circles"
   ]
  },
  {
   "cell_type": "code",
   "execution_count": 2,
   "metadata": {
    "collapsed": true
   },
   "outputs": [],
   "source": [
    "x = set() # plk vs vnt\n",
    "y = set() # plk vs swt\n",
    "z = set() # swt vs vnt"
   ]
  },
  {
   "cell_type": "code",
   "execution_count": 3,
   "metadata": {
    "collapsed": false
   },
   "outputs": [],
   "source": [
    "with open('mydeseq2.sig.Plk.Vnt.venn.tsv', 'r') as f:\n",
    "    for line in f:\n",
    "        fields = line.split(\"\\t\")\n",
    "        if fields[0] != \"Gene_number\":\n",
    "            x.add(fields[0])\n",
    "\n",
    "with open('mydeseq2.sig.Plk.Swt.venn.tsv', 'r') as f:\n",
    "    for line in f:\n",
    "        fields = line.split(\"\\t\")\n",
    "        if fields[0] != \"Gene_number\":\n",
    "            y.add(fields[0])\n",
    "\n",
    "with open('mydeseq2.sig.Swt.Vnt.venn.tsv', 'r') as f:\n",
    "    for line in f:\n",
    "        fields = line.split(\"\\t\")\n",
    "        if fields[0] != \"Gene_number\":\n",
    "            z.add(fields[0])"
   ]
  },
  {
   "cell_type": "code",
   "execution_count": 4,
   "metadata": {
    "collapsed": false
   },
   "outputs": [],
   "source": [
    "all_three = x & y & z\n",
    "x_and_y = x & y - z\n",
    "y_and_z = y & z - x\n",
    "x_and_z = x & z - y\n",
    "x_only = x - y - z\n",
    "y_only = y - x - z\n",
    "z_only = z - x - y"
   ]
  },
  {
   "cell_type": "code",
   "execution_count": 5,
   "metadata": {
    "collapsed": false
   },
   "outputs": [
    {
     "data": {
      "image/png": "[encoded data removed]",
      "text/plain": [
       "<matplotlib.figure.Figure at 0x1094da890>"
      ]
     },
     "metadata": {},
     "output_type": "display_data"
    }
   ],
   "source": [
    "fig = plt.figure()\n",
    "venn3([x, y, z], set_labels = ('Vented vs. Planktonic', 'Planktonic vs. SWT', ' Vented vs. SWT'))\n",
    "fig.savefig('venn.pdf')"
   ]
  },
  {
   "cell_type": "code",
   "execution_count": 6,
   "metadata": {
    "collapsed": true
   },
   "outputs": [],
   "source": [
    "target = open('venn_vibrio_list.txt', 'w')"
   ]
  },
  {
   "cell_type": "code",
   "execution_count": 7,
   "metadata": {
    "collapsed": false
   },
   "outputs": [],
   "source": [
    "target.write(\"All three comparisons: \")\n",
    "target.write(str(len(all_three)))\n",
    "target.write(\" genes\\n\")\n",
    "for i in all_three:\n",
    "    target.write(i)\n",
    "    target.write(\"\\n\")\n",
    "\n",
    "target.write(\"Plk-Vnt and Plk-Swt: \")\n",
    "target.write(str(len(x_and_y)))\n",
    "target.write(\" genes\\n\")\n",
    "for i in x_and_y:\n",
    "    target.write(i)\n",
    "    target.write(\"\\n\")\n",
    "    \n",
    "target.write(\"Plk-Vnt and Swt-Vnt: \")\n",
    "target.write(str(len(x_and_z)))\n",
    "target.write(\" genes\\n\")\n",
    "for i in x_and_z:\n",
    "    target.write(i)\n",
    "    target.write(\"\\n\")\n",
    "    \n",
    "target.write(\"Plk-Swt and Swt-Vnt: \")\n",
    "target.write(str(len(y_and_z)))\n",
    "target.write(\" genes\\n\")\n",
    "for i in y_and_z:\n",
    "    target.write(i)\n",
    "    target.write(\"\\n\")\n",
    "    \n",
    "target.write(\"Plk-Vnt only: \")\n",
    "target.write(str(len(x_only)))\n",
    "target.write(\" genes\\n\")\n",
    "for i in x_only:\n",
    "    target.write(i)\n",
    "    target.write(\"\\n\")\n",
    "    \n",
    "target.write(\"Plk-Swt only: \")\n",
    "target.write(str(len(y_only)))\n",
    "target.write(\" genes\\n\")\n",
    "for i in y_only:\n",
    "    target.write(i)\n",
    "    target.write(\"\\n\")\n",
    "    \n",
    "target.write(\"Swt-Vnt only: \")\n",
    "target.write(str(len(z_only)))\n",
    "target.write(\" genes\\n\")\n",
    "for i in z_only:\n",
    "    target.write(i)\n",
    "    target.write(\"\\n\")"
   ]
  },
  {
   "cell_type": "code",
   "execution_count": 8,
   "metadata": {
    "collapsed": true
   },
   "outputs": [],
   "source": [
    "target.close()"
   ]
  },
  {
   "cell_type": "code",
   "execution_count": null,
   "metadata": {
    "collapsed": true
   },
   "outputs": [],
   "source": []
  }
 ],
 "metadata": {
  "kernelspec": {
   "display_name": "Python 2",
   "language": "python",
   "name": "python2"
  },
  "language_info": {
   "codemirror_mode": {
    "name": "ipython",
    "version": 2
   },
   "file_extension": ".py",
   "mimetype": "text/x-python",
   "name": "python",
   "nbconvert_exporter": "python",
   "pygments_lexer": "ipython2",
   "version": "2.7.10"
  }
 },
 "nbformat": 4,
 "nbformat_minor": 0
}
