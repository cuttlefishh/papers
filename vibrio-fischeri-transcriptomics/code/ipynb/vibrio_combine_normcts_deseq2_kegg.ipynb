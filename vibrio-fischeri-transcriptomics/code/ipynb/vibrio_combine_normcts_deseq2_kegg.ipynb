{
 "cells": [
  {
   "cell_type": "code",
   "execution_count": 27,
   "metadata": {
    "collapsed": false,
    "scrolled": true
   },
   "outputs": [],
   "source": [
    "from sys import argv\n",
    "import re\n",
    "import numpy as np\n",
    "import pandas as pd\n",
    "from cogent.parse import kegg_ko\n",
    "from cogent.parse import kegg_taxonomy\n",
    "from collections import Counter\n",
    "from collections import OrderedDict\n",
    "from collections import defaultdict\n",
    "import csv"
   ]
  },
  {
   "cell_type": "markdown",
   "metadata": {},
   "source": [
    "### Set Paths and Variables"
   ]
  },
  {
   "cell_type": "code",
   "execution_count": 28,
   "metadata": {
    "collapsed": true
   },
   "outputs": [],
   "source": [
    "path_cpm = '/Users/luke/vibrio/results/CPM.all.Plk.Swt.Vnt.descr.tsv'\n",
    "path_gff = '/Users/luke/vibrio/genome/VfES114_fixed.CDS.tsv'\n",
    "path_plk_swt = '/Users/luke/vibrio/results/mydeseq2.all.Plk.Swt.tsv'\n",
    "path_plk_vnt = '/Users/luke/vibrio/results/mydeseq2.all.Plk.Vnt.tsv'\n",
    "path_swt_vnt = '/Users/luke/vibrio/results/mydeseq2.all.Swt.Vnt.tsv'\n",
    "path_vfi_ko = '/Users/luke/kegg/vfi/vfi_ko.list'\n",
    "path_ko = '/Users/luke/kegg/ko'\n",
    "path_out = '/Users/luke/vibrio/results/results_rpkm.csv'"
   ]
  },
  {
   "cell_type": "markdown",
   "metadata": {},
   "source": [
    "### Make RPKM DataFrame with KO Numbers Appended"
   ]
  },
  {
   "cell_type": "code",
   "execution_count": 29,
   "metadata": {
    "collapsed": false
   },
   "outputs": [],
   "source": [
    "# Import CPM data\n",
    "cpm = pd.read_csv(path_cpm, sep='\\t')"
   ]
  },
  {
   "cell_type": "code",
   "execution_count": 30,
   "metadata": {
    "collapsed": true
   },
   "outputs": [],
   "source": [
    "# Import GFF file\n",
    "gff = pd.read_csv(path_gff, sep='\\t', header=None)\n",
    "gff.columns = ['CDS_number', 'length_bp', 'description']"
   ]
  },
  {
   "cell_type": "code",
   "execution_count": 31,
   "metadata": {
    "collapsed": false
   },
   "outputs": [],
   "source": [
    "# Convert CPM to RPKM\n",
    "rpkm = pd.merge(cpm, gff, left_on='CDS_number', right_on='CDS_number', how='left')\n",
    "del rpkm['description']\n",
    "for i in ['Plk1', 'Plk2', 'Plk3', 'Swt1', 'Swt2', 'Swt3', 'Vnt1', 'Vnt2', 'Vnt3']:\n",
    "    series_norm = rpkm[i]/rpkm['length_bp']\n",
    "    rpkm['%s_rpkm' % i] = series_norm/series_norm.sum()*1e6\n",
    "    del rpkm[i]\n",
    "del rpkm['length_bp']\n",
    "# Reorder columns\n",
    "cols = rpkm.columns.tolist()\n",
    "newcols = cols[0:2] + cols[3:12] + cols[2:3]\n",
    "rpkm = rpkm[newcols]"
   ]
  },
  {
   "cell_type": "code",
   "execution_count": 32,
   "metadata": {
    "collapsed": false
   },
   "outputs": [],
   "source": [
    "# Add mean and std columns for plk, swt, vnt\n",
    "for i in ['Plk', 'Swt', 'Vnt']:\n",
    "    rpkm['%s_rpkm_mean' % i] = rpkm[['%s1_rpkm' % i, '%s2_rpkm' % i, '%s3_rpkm' % i]].mean(axis=1)\n",
    "    rpkm['%s_rpkm_std' % i] = rpkm[['%s1_rpkm' % i, '%s2_rpkm' % i, '%s3_rpkm' % i]].std(axis=1)"
   ]
  },
  {
   "cell_type": "code",
   "execution_count": 33,
   "metadata": {
    "collapsed": false
   },
   "outputs": [],
   "source": [
    "# Reorder columns\n",
    "cols = rpkm.columns.tolist()\n",
    "newcols = cols[0:5] + cols[12:14] + cols[5:8] + cols[14:16] + cols[8:11] + cols[16:18] + cols[11:12]\n",
    "rpkm = rpkm[newcols]"
   ]
  },
  {
   "cell_type": "code",
   "execution_count": 34,
   "metadata": {
    "collapsed": false
   },
   "outputs": [],
   "source": [
    "vfi_ko = pd.read_csv(path_vfi_ko, sep='\\t', header=None)\n",
    "vfi_ko[0] = vfi_ko[0].str.replace(r'vfi:', '')\n",
    "vfi_ko[1] = vfi_ko[1].str.replace(r'ko:', '')\n",
    "vf2ko = defaultdict(str, zip(vfi_ko[0], vfi_ko[1]))"
   ]
  },
  {
   "cell_type": "code",
   "execution_count": 35,
   "metadata": {
    "collapsed": false
   },
   "outputs": [],
   "source": [
    "rpkm['KO_number'] = [vf2ko[i] for i in rpkm.VF_number]"
   ]
  },
  {
   "cell_type": "markdown",
   "metadata": {},
   "source": [
    "### Parse KEGG KO Record and Append Pathway (Pathways) to DataFrame"
   ]
  },
  {
   "cell_type": "code",
   "execution_count": 36,
   "metadata": {
    "collapsed": false
   },
   "outputs": [],
   "source": [
    "# Long step! Only run if necessary\n",
    "kdata = kegg_ko.parse_ko(open(path_ko))\n",
    "klist = list(kdata)\n",
    "kframe = pd.DataFrame(klist)\n",
    "ko2class = defaultdict(str, zip(kframe.ENTRY, kframe.CLASS))"
   ]
  },
  {
   "cell_type": "code",
   "execution_count": 37,
   "metadata": {
    "collapsed": false
   },
   "outputs": [],
   "source": [
    "# Add column for pathways (\"Class\")\n",
    "rpkm['Pathways'] = [ko2class[i] for i in rpkm.KO_number]"
   ]
  },
  {
   "cell_type": "markdown",
   "metadata": {},
   "source": [
    "### Import and Append DESeq2 Results"
   ]
  },
  {
   "cell_type": "code",
   "execution_count": 38,
   "metadata": {
    "collapsed": false
   },
   "outputs": [],
   "source": [
    "# Import DESeq2 data to DataFrames\n",
    "deseq_plk_swt = pd.read_csv(path_plk_swt, sep='\\t')\n",
    "deseq_plk_vnt = pd.read_csv(path_plk_vnt, sep='\\t')\n",
    "deseq_swt_vnt = pd.read_csv(path_swt_vnt, sep='\\t')"
   ]
  },
  {
   "cell_type": "code",
   "execution_count": 39,
   "metadata": {
    "collapsed": false
   },
   "outputs": [],
   "source": [
    "# Remove columns except VF/CDS numbers (to be used as keys) and log2fc and padj\n",
    "deseq_plk_swt = deseq_plk_swt[['VF_number', 'CDS_number', 'log2FoldChange', 'padj']]\n",
    "deseq_plk_vnt = deseq_plk_vnt[['VF_number', 'CDS_number', 'log2FoldChange', 'padj']]\n",
    "deseq_swt_vnt = deseq_swt_vnt[['VF_number', 'CDS_number', 'log2FoldChange', 'padj']]"
   ]
  },
  {
   "cell_type": "code",
   "execution_count": 40,
   "metadata": {
    "collapsed": false,
    "scrolled": true
   },
   "outputs": [],
   "source": [
    "# Reverse sign to get Vnt-vs-Plk and Vnt-vs-Swt\n",
    "deseq_plk_vnt['log2FoldChange'] = deseq_plk_vnt['log2FoldChange'] * -1\n",
    "deseq_swt_vnt['log2FoldChange'] = deseq_swt_vnt['log2FoldChange'] * -1"
   ]
  },
  {
   "cell_type": "code",
   "execution_count": 41,
   "metadata": {
    "collapsed": false
   },
   "outputs": [],
   "source": [
    "# Rename columns\n",
    "deseq_plk_swt.columns = ['VF_number','CDS_number','Plk-vs-Swt_log2fc','Plk-vs-Swt_padj']\n",
    "deseq_plk_vnt.columns = ['VF_number','CDS_number','Vnt-vs-Plk_log2fc','Vnt-vs-Plk_padj']\n",
    "deseq_swt_vnt.columns = ['VF_number','CDS_number','Vnt-vs-Swt_log2fc','Vnt-vs-Swt_padj']"
   ]
  },
  {
   "cell_type": "code",
   "execution_count": 42,
   "metadata": {
    "collapsed": false
   },
   "outputs": [],
   "source": [
    "# Merge DESeq2 data into normalized count and KO/pathway table\n",
    "rpkm = pd.merge(rpkm, deseq_plk_swt, how='outer')\n",
    "rpkm = pd.merge(rpkm, deseq_plk_vnt, how='outer')\n",
    "rpkm = pd.merge(rpkm, deseq_swt_vnt, how='outer')"
   ]
  },
  {
   "cell_type": "code",
   "execution_count": 43,
   "metadata": {
    "collapsed": false,
    "scrolled": true
   },
   "outputs": [],
   "source": [
    "# Reorder columns\n",
    "cols = rpkm.columns.tolist()\n",
    "newcols = cols[0:17] + cols[20:26] + cols[17:20]\n",
    "rpkm = rpkm[newcols]"
   ]
  },
  {
   "cell_type": "code",
   "execution_count": 44,
   "metadata": {
    "collapsed": false
   },
   "outputs": [],
   "source": [
    "# Save DataFrame as csv\n",
    "rpkm.to_csv(path_out, index=False)"
   ]
  },
  {
   "cell_type": "code",
   "execution_count": null,
   "metadata": {
    "collapsed": true
   },
   "outputs": [],
   "source": []
  },
  {
   "cell_type": "markdown",
   "metadata": {
    "collapsed": true
   },
   "source": [
    "### Reformat as biom file and mapping file"
   ]
  },
  {
   "cell_type": "code",
   "execution_count": 19,
   "metadata": {
    "collapsed": false
   },
   "outputs": [],
   "source": [
    "biom = rpkm[['VF_number', 'Plk1_rpkm', 'Plk2_rpkm', 'Plk3_rpkm', 'Swt1_rpkm', 'Swt2_rpkm', 'Swt3_rpkm', 'Vnt1_rpkm', 'Vnt2_rpkm', 'Vnt3_rpkm']]\n",
    "biom.index = biom.VF_number\n",
    "del biom['VF_number']\n",
    "biom = biom.T\n",
    "biom.to_csv('vibrio_biom.csv', index=True)"
   ]
  },
  {
   "cell_type": "code",
   "execution_count": 20,
   "metadata": {
    "collapsed": true
   },
   "outputs": [],
   "source": [
    "mapping = pd.DataFrame({'treatment': ['planktonic', 'planktonic', 'planktonic', 'SWT_medium', 'SWT_medium', 'SWT_medium', 'vented', 'vented', 'vented']}, index=biom.index)\n",
    "mapping.to_csv('vibrio_mapping.csv', index=True)"
   ]
  },
  {
   "cell_type": "code",
   "execution_count": null,
   "metadata": {
    "collapsed": true
   },
   "outputs": [],
   "source": []
  },
  {
   "cell_type": "code",
   "execution_count": null,
   "metadata": {
    "collapsed": true
   },
   "outputs": [],
   "source": []
  },
  {
   "cell_type": "code",
   "execution_count": null,
   "metadata": {
    "collapsed": true
   },
   "outputs": [],
   "source": []
  },
  {
   "cell_type": "code",
   "execution_count": null,
   "metadata": {
    "collapsed": true
   },
   "outputs": [],
   "source": []
  },
  {
   "cell_type": "markdown",
   "metadata": {},
   "source": [
    "# IGNORE BELOW FOR NOW"
   ]
  },
  {
   "cell_type": "code",
   "execution_count": null,
   "metadata": {
    "collapsed": true
   },
   "outputs": [],
   "source": [
    "top_level2 = 10\n",
    "top_level1 = 10\n",
    "num_cutoff = 5"
   ]
  },
  {
   "cell_type": "markdown",
   "metadata": {},
   "source": [
    "**Make Dictionary of My Chosen KOs and Their Pathways**"
   ]
  },
  {
   "cell_type": "code",
   "execution_count": null,
   "metadata": {
    "collapsed": true
   },
   "outputs": [],
   "source": [
    "# convert list of [KO, all pathway hierarchy] to dictionary, and make a copy for lookup at the end\n",
    "dict_mykpath = dict(zip([x[0] for x in mykpath], [x[1] for x in mykpath]))\n",
    "dict_mykpath_copy = dict_mykpath.copy()"
   ]
  },
  {
   "cell_type": "markdown",
   "metadata": {},
   "source": [
    "**With Chosen KOs (GOIs), Find KOs with Level-2 Pathways Among Top**"
   ]
  },
  {
   "cell_type": "code",
   "execution_count": null,
   "metadata": {
    "collapsed": false,
    "scrolled": false
   },
   "outputs": [],
   "source": [
    "# extract pathway level-2, count list entries and sort\n",
    "mykpath2 = []\n",
    "for ko, paths in dict_mykpath.iteritems():\n",
    "    for path in paths:\n",
    "        mykpath2.append(path[1][2])\n",
    "pathcount2 = Counter(mykpath2)"
   ]
  },
  {
   "cell_type": "code",
   "execution_count": null,
   "metadata": {
    "collapsed": false
   },
   "outputs": [],
   "source": [
    "# get top level-2 pathways, convert to dict, find KOs that contain those pathways\n",
    "top_pathcount2 = pathcount2.most_common(top_level2)\n",
    "dict_top_pathcount2 = OrderedDict(zip([x[0] for x in top_pathcount2], [x[1] for x in top_pathcount2]))\n",
    "ko_level2 = []\n",
    "for ko, paths in dict_mykpath.iteritems():\n",
    "    for path in paths:\n",
    "        if path[1][2] in dict_top_pathcount2:\n",
    "            ko_level2.append(ko)"
   ]
  },
  {
   "cell_type": "code",
   "execution_count": null,
   "metadata": {
    "collapsed": false
   },
   "outputs": [],
   "source": [
    "# get unique level-2 KOs, as set\n",
    "ko_level2_unique = list(set(ko_level2))"
   ]
  },
  {
   "cell_type": "code",
   "execution_count": null,
   "metadata": {
    "collapsed": false
   },
   "outputs": [],
   "source": [
    "# remove KOs that match top level-2 pathways\n",
    "for ko in ko_level2_unique:\n",
    "    dict_mykpath.pop(ko, None)"
   ]
  },
  {
   "cell_type": "markdown",
   "metadata": {},
   "source": [
    "**With Remaining KOs, Find KOs with Level-1 Pathways Among Top**"
   ]
  },
  {
   "cell_type": "code",
   "execution_count": null,
   "metadata": {
    "collapsed": true
   },
   "outputs": [],
   "source": [
    "# extract pathway level-1, count list entries and sort\n",
    "mykpath1 = []\n",
    "for ko, paths in dict_mykpath.iteritems():\n",
    "    for path in paths:\n",
    "        mykpath1.append(path[1][1])\n",
    "pathcount1 = Counter(mykpath1)"
   ]
  },
  {
   "cell_type": "code",
   "execution_count": null,
   "metadata": {
    "collapsed": true
   },
   "outputs": [],
   "source": [
    "# get top level-1 pathways, convert to dict, find KOs that contain those pathways\n",
    "top_pathcount1 = pathcount1.most_common(top_level1)\n",
    "dict_top_pathcount1 = OrderedDict(zip([x[0] for x in top_pathcount1], [x[1] for x in top_pathcount1]))\n",
    "ko_level1 = []\n",
    "for ko, paths in dict_mykpath.iteritems():\n",
    "    for path in paths:\n",
    "        if path[1][1] in dict_top_pathcount1:\n",
    "            ko_level1.append(ko)"
   ]
  },
  {
   "cell_type": "code",
   "execution_count": null,
   "metadata": {
    "collapsed": true
   },
   "outputs": [],
   "source": [
    "# get unique level-1 KOs, as set\n",
    "ko_level1_unique = list(set(ko_level1))"
   ]
  },
  {
   "cell_type": "code",
   "execution_count": null,
   "metadata": {
    "collapsed": true
   },
   "outputs": [],
   "source": [
    "# remove KOs that match top level-1 pathways\n",
    "for ko in ko_level1_unique:\n",
    "    dict_mykpath.pop(ko, None)"
   ]
  },
  {
   "cell_type": "markdown",
   "metadata": {},
   "source": [
    "**With Remaining KOs, Group as Other**"
   ]
  },
  {
   "cell_type": "code",
   "execution_count": null,
   "metadata": {
    "collapsed": true
   },
   "outputs": [],
   "source": [
    "# get list of remaining KOs\n",
    "ko_other = dict_mykpath.keys()"
   ]
  },
  {
   "cell_type": "markdown",
   "metadata": {},
   "source": [
    "**Assign KOs to Pathways: Top Level-2, Recycle Unassigned KOs, Top Level-1, then Other**"
   ]
  },
  {
   "cell_type": "code",
   "execution_count": null,
   "metadata": {
    "collapsed": false
   },
   "outputs": [],
   "source": [
    "# initialize dictionaries\n",
    "dict_level2 = OrderedDict(zip(dict_top_pathcount2.keys(), [[] for x in dict_top_pathcount2.keys()]))\n",
    "dict_level1 = OrderedDict(zip(dict_top_pathcount1.keys(), [[] for x in dict_top_pathcount1.keys()]))\n",
    "dict_other = OrderedDict()\n",
    "dict_other['Other'] = []\n",
    "\n"
   ]
  },
  {
   "cell_type": "code",
   "execution_count": null,
   "metadata": {
    "collapsed": false
   },
   "outputs": [],
   "source": [
    "# level-2 assign highest pathway per KO, then remove pathways with too few counts, but recycle unassigned KOs\n",
    "ko_bool_level2 = OrderedDict(zip([x for x in ko_level2_unique], [True for x in ko_level2_unique]))\n",
    "for ko in ko_level2_unique:\n",
    "    for path, count in dict_top_pathcount2.iteritems():\n",
    "        if ko_bool_level2[ko]:\n",
    "            for entry in dict_mykpath_copy[ko]:\n",
    "                if entry[1][2] == path:\n",
    "                    dict_level2[path].append(ko)\n",
    "                    ko_bool_level2[ko] = False\n",
    "                    break\n",
    "ko_level1_unique_plus = list(ko_level1_unique)\n",
    "for key, value in dict_level2.iteritems():\n",
    "    if len(value) < num_cutoff:\n",
    "        recycle = dict_level2.pop(key, None)\n",
    "        if len(recycle) > 0:\n",
    "            for element in recycle:\n",
    "                ko_level1_unique_plus.append(element)\n",
    "                print element\n"
   ]
  },
  {
   "cell_type": "code",
   "execution_count": null,
   "metadata": {
    "collapsed": true
   },
   "outputs": [],
   "source": []
  },
  {
   "cell_type": "code",
   "execution_count": null,
   "metadata": {
    "collapsed": false
   },
   "outputs": [],
   "source": [
    "# level-1 assign highest pathway per KO, then remove pathways with too few counts\n",
    "ko_bool_level1 = OrderedDict(zip([x for x in ko_level1_unique_plus], [True for x in ko_level1_unique_plus]))\n",
    "for ko in ko_level1_unique_plus:\n",
    "    for path, count in dict_top_pathcount1.iteritems():\n",
    "        if ko_bool_level1[ko]:\n",
    "            for entry in dict_mykpath_copy[ko]:\n",
    "                if entry[1][1] == path:\n",
    "                    dict_level1[path].append(ko)\n",
    "                    ko_bool_level1[ko] = False\n",
    "                    break\n",
    "ko_other_plus = list(ko_other)\n",
    "for key, value in dict_level1.iteritems():\n",
    "    if len(value) < num_cutoff:\n",
    "        recycle1 = dict_level1.pop(key, None)\n",
    "        if len(recycle1) > 0:\n",
    "            for element in recycle1:\n",
    "                ko_other_plus.append(element)\n",
    "                print element\n",
    "        "
   ]
  },
  {
   "cell_type": "code",
   "execution_count": null,
   "metadata": {
    "collapsed": true
   },
   "outputs": [],
   "source": [
    "# other\n",
    "for ko in ko_other_plus:\n",
    "    dict_other['Other'].append(ko)\n",
    "    \n",
    "# hacky solution for K01488, whose level-2 pathway (Purine metabolism) \n",
    "# only has 2 counts but level-1 pathways (Nucleotide Metabolism and \n",
    "# Immune System Diseases) are not in my list -- THIS IS A BUG!\n",
    "dict_other['Other'].append('K01488')"
   ]
  },
  {
   "cell_type": "markdown",
   "metadata": {},
   "source": [
    "**Combine Dicts of Pathway => KOs and Write to File**"
   ]
  },
  {
   "cell_type": "code",
   "execution_count": null,
   "metadata": {
    "collapsed": false,
    "scrolled": true
   },
   "outputs": [],
   "source": [
    "# combine 3 dicts into 1\n",
    "output_dict = OrderedDict(dict_level2.items() + dict_level1.items() + dict_other.items())"
   ]
  },
  {
   "cell_type": "code",
   "execution_count": null,
   "metadata": {
    "collapsed": false
   },
   "outputs": [],
   "source": [
    "# remove commas from pathway names\n",
    "output_dict2 = OrderedDict()\n",
    "regex_comma = re.compile(r',')\n",
    "for key, value in output_dict.iteritems():\n",
    "    output_dict2[regex_comma.sub('',key)] = value"
   ]
  },
  {
   "cell_type": "code",
   "execution_count": null,
   "metadata": {
    "collapsed": true
   },
   "outputs": [],
   "source": [
    "# write output\n",
    "writer = csv.writer(open(path_out, 'wb'))\n",
    "for key, value in output_dict2.items():\n",
    "   writer.writerow([key, value])"
   ]
  },
  {
   "cell_type": "markdown",
   "metadata": {
    "collapsed": true
   },
   "source": [
    "**Printing for Reference (note commas not removed in this output but are in written file)**"
   ]
  },
  {
   "cell_type": "code",
   "execution_count": null,
   "metadata": {
    "collapsed": false,
    "scrolled": true
   },
   "outputs": [],
   "source": [
    "mysum = 0\n",
    "for path, count in dict_top_pathcount2.iteritems():\n",
    "    print path, count\n",
    "    mysum = mysum + count\n",
    "print mysum"
   ]
  },
  {
   "cell_type": "code",
   "execution_count": null,
   "metadata": {
    "collapsed": false,
    "scrolled": false
   },
   "outputs": [],
   "source": [
    "mysum = 0\n",
    "for path, count in dict_top_pathcount1.iteritems():\n",
    "    print path, count\n",
    "    mysum = mysum + count\n",
    "print mysum"
   ]
  },
  {
   "cell_type": "code",
   "execution_count": null,
   "metadata": {
    "collapsed": false,
    "scrolled": true
   },
   "outputs": [],
   "source": [
    "len(ko_level2)"
   ]
  },
  {
   "cell_type": "code",
   "execution_count": null,
   "metadata": {
    "collapsed": false,
    "scrolled": true
   },
   "outputs": [],
   "source": [
    "len(ko_level2_unique)"
   ]
  },
  {
   "cell_type": "code",
   "execution_count": null,
   "metadata": {
    "collapsed": false
   },
   "outputs": [],
   "source": [
    "len(ko_level1)"
   ]
  },
  {
   "cell_type": "code",
   "execution_count": null,
   "metadata": {
    "collapsed": false
   },
   "outputs": [],
   "source": [
    "len(ko_level1_unique)"
   ]
  },
  {
   "cell_type": "code",
   "execution_count": null,
   "metadata": {
    "collapsed": false
   },
   "outputs": [],
   "source": [
    "len(ko_level1_unique_plus) # includes KOs from ko_level2_unique not matched due to low pathway count"
   ]
  },
  {
   "cell_type": "code",
   "execution_count": null,
   "metadata": {
    "collapsed": false
   },
   "outputs": [],
   "source": [
    "len(ko_other)"
   ]
  },
  {
   "cell_type": "code",
   "execution_count": null,
   "metadata": {
    "collapsed": false
   },
   "outputs": [],
   "source": [
    "len(ko_level2_unique) + len(ko_level1_unique) + len(ko_other)"
   ]
  },
  {
   "cell_type": "code",
   "execution_count": null,
   "metadata": {
    "collapsed": false,
    "scrolled": true
   },
   "outputs": [],
   "source": [
    "out_file = open(\"/Users/luke/krse2011/ordination/cca-by-pathway-filt3-goi/test.txt\", \"w\")\n",
    "\n",
    "x = 0\n",
    "for key, value in output_dict2.iteritems():\n",
    "    out_file.write('\\n'.join(value))\n",
    "    out_file.write('\\n')\n",
    "    #print key, '\\t', len(value)\n",
    "    x = x + len(value)\n",
    "print x\n",
    "\n",
    "out_file.close()"
   ]
  },
  {
   "cell_type": "code",
   "execution_count": null,
   "metadata": {
    "collapsed": false
   },
   "outputs": [],
   "source": [
    "out_file = open(\"/Users/luke/krse2011/ordination/cca-by-pathway-filt3-goi/test2.txt\", \"w\")\n",
    "out_file.write('\\n'.join(ko_level2_unique + ko_level1_unique + ko_other))\n",
    "out_file.write('\\n')\n",
    "out_file.close()"
   ]
  },
  {
   "cell_type": "code",
   "execution_count": null,
   "metadata": {
    "collapsed": true
   },
   "outputs": [],
   "source": []
  }
 ],
 "metadata": {
  "kernelspec": {
   "display_name": "Python 2",
   "language": "python",
   "name": "python2"
  },
  "language_info": {
   "codemirror_mode": {
    "name": "ipython",
    "version": 2
   },
   "file_extension": ".py",
   "mimetype": "text/x-python",
   "name": "python",
   "nbconvert_exporter": "python",
   "pygments_lexer": "ipython2",
   "version": "2.7.11"
  }
 },
 "nbformat": 4,
 "nbformat_minor": 0
}
